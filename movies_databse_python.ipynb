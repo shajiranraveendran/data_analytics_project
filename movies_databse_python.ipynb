{
 "cells": [
  {
   "cell_type": "markdown",
   "id": "7e6d1072",
   "metadata": {},
   "source": [
    "# Connecting to mysql server and query the data"
   ]
  },
  {
   "cell_type": "markdown",
   "id": "0ef85018",
   "metadata": {},
   "source": [
    "## Import and Settings"
   ]
  },
  {
   "cell_type": "code",
   "execution_count": 1,
   "id": "fa3cd6d1",
   "metadata": {},
   "outputs": [
    {
     "name": "stdout",
     "output_type": "stream",
     "text": [
      "e:\\ZHAW\\data_analytics\\data_analytics_project\\db\n"
     ]
    }
   ],
   "source": [
    "# Imports\n",
    "import os\n",
    "\n",
    "# Ignore warnings\n",
    "import warnings\n",
    "warnings.filterwarnings(\"ignore\")\n",
    "\n",
    "# Function to close a sqlite db-connection\n",
    "def check_conn(conn):\n",
    "     try:\n",
    "        conn.cursor()\n",
    "        return True\n",
    "     except Exception as ex:\n",
    "        return False\n",
    "\n",
    "# Show current working directory\n",
    "print(os.getcwd())"
   ]
  },
  {
   "cell_type": "markdown",
   "id": "c820aadc",
   "metadata": {},
   "source": [
    "## Connect to database"
   ]
  },
  {
   "cell_type": "code",
   "execution_count": 2,
   "id": "a637b3fd",
   "metadata": {},
   "outputs": [],
   "source": [
    "# Imports\n",
    "import pandas as pd\n",
    "import mysql.connector\n",
    "\n",
    "# Connect to database\n",
    "conn = mysql.connector.connect(\n",
    "    user = 'root',\n",
    "    password = '1234',\n",
    "    database = 'movie_database') \n",
    "cursor = conn.cursor()\n",
    "\n",
    "# Read data from file\n",
    "df = pd.read_csv('../IMDB_Merged_Movies.csv', sep=';', encoding='utf-8')\n",
    "\n",
    "# Convert data to sql format\n",
    "df = df.rename(columns={'runtime_(mins)': 'runtime'})"
   ]
  },
  {
   "cell_type": "markdown",
   "id": "76451373",
   "metadata": {},
   "source": [
    "## Write data to table in db"
   ]
  },
  {
   "cell_type": "code",
   "execution_count": 3,
   "id": "a6ed4d7d",
   "metadata": {},
   "outputs": [],
   "source": [
    "# Create table in database if not already exists\n",
    "cursor.execute('''DROP TABLE IF EXISTS movies_table''')\n",
    "cursor.execute('''CREATE TABLE IF NOT EXISTS movies_table (\n",
    "    title VARCHAR(255),\n",
    "    genres VARCHAR(255),\n",
    "    runtime_mins INT,\n",
    "    age_rating INT,\n",
    "    director VARCHAR(255),\n",
    "    movie_rating FLOAT,\n",
    "    votes_count INT,\n",
    "    worldwide_lifetime_gross BIGINT,\n",
    "    domestic_lifetime_gross BIGINT,\n",
    "    foreign_lifetime_gross FLOAT,\n",
    "    release_year INT\n",
    ")''')\n",
    "\n",
    "# Insert data into the SQL table\n",
    "insert_query = '''\n",
    "INSERT INTO movies_table\n",
    "VALUES (%s, %s, %s, %s, %s, %s, %s, %s, %s, %s, %s)\n",
    "'''\n",
    "\n",
    "for index, row in df.iterrows():\n",
    "    cursor.execute(insert_query, tuple(row))\n",
    "    \n",
    "# Commit the transaction\n",
    "conn.commit()"
   ]
  },
  {
   "cell_type": "markdown",
   "id": "88b15cb3",
   "metadata": {},
   "source": [
    "## Query the table"
   ]
  },
  {
   "cell_type": "code",
   "execution_count": 4,
   "id": "8929f6b3",
   "metadata": {},
   "outputs": [
    {
     "data": {
      "text/html": [
       "<div>\n",
       "<style scoped>\n",
       "    .dataframe tbody tr th:only-of-type {\n",
       "        vertical-align: middle;\n",
       "    }\n",
       "\n",
       "    .dataframe tbody tr th {\n",
       "        vertical-align: top;\n",
       "    }\n",
       "\n",
       "    .dataframe thead th {\n",
       "        text-align: right;\n",
       "    }\n",
       "</style>\n",
       "<table border=\"1\" class=\"dataframe\">\n",
       "  <thead>\n",
       "    <tr style=\"text-align: right;\">\n",
       "      <th></th>\n",
       "      <th>title</th>\n",
       "      <th>genres</th>\n",
       "      <th>runtime</th>\n",
       "      <th>age_rating</th>\n",
       "      <th>director</th>\n",
       "      <th>movie_rating</th>\n",
       "      <th>votes_count</th>\n",
       "      <th>worldwide_lifetime_gross</th>\n",
       "      <th>domestic_lifetime_gross</th>\n",
       "      <th>foreign_lifetime_gross</th>\n",
       "      <th>release_year</th>\n",
       "    </tr>\n",
       "  </thead>\n",
       "  <tbody>\n",
       "    <tr>\n",
       "      <th>0</th>\n",
       "      <td>the dark knight</td>\n",
       "      <td>Action, Crime, Drama, Thriller</td>\n",
       "      <td>152</td>\n",
       "      <td>16</td>\n",
       "      <td>Christopher Nolan</td>\n",
       "      <td>9.0</td>\n",
       "      <td>2950798</td>\n",
       "      <td>1009053678</td>\n",
       "      <td>534987076</td>\n",
       "      <td>0.470</td>\n",
       "      <td>2008</td>\n",
       "    </tr>\n",
       "    <tr>\n",
       "      <th>1</th>\n",
       "      <td>pulp fiction</td>\n",
       "      <td>Crime, Drama</td>\n",
       "      <td>154</td>\n",
       "      <td>16</td>\n",
       "      <td>Quentin Tarantino</td>\n",
       "      <td>8.9</td>\n",
       "      <td>2279743</td>\n",
       "      <td>213928762</td>\n",
       "      <td>107928762</td>\n",
       "      <td>0.496</td>\n",
       "      <td>1994</td>\n",
       "    </tr>\n",
       "    <tr>\n",
       "      <th>2</th>\n",
       "      <td>joker</td>\n",
       "      <td>Crime, Drama, Thriller</td>\n",
       "      <td>122</td>\n",
       "      <td>16</td>\n",
       "      <td>Todd Phillips</td>\n",
       "      <td>8.4</td>\n",
       "      <td>1563871</td>\n",
       "      <td>1078958629</td>\n",
       "      <td>335477657</td>\n",
       "      <td>0.689</td>\n",
       "      <td>2019</td>\n",
       "    </tr>\n",
       "    <tr>\n",
       "      <th>3</th>\n",
       "      <td>the silence of the lambs</td>\n",
       "      <td>Crime, Drama, Thriller</td>\n",
       "      <td>118</td>\n",
       "      <td>16</td>\n",
       "      <td>Jonathan Demme</td>\n",
       "      <td>8.6</td>\n",
       "      <td>1594731</td>\n",
       "      <td>272742922</td>\n",
       "      <td>130742922</td>\n",
       "      <td>0.521</td>\n",
       "      <td>1991</td>\n",
       "    </tr>\n",
       "    <tr>\n",
       "      <th>4</th>\n",
       "      <td>the green mile</td>\n",
       "      <td>Crime, Drama, Fantasy, Mystery</td>\n",
       "      <td>189</td>\n",
       "      <td>12</td>\n",
       "      <td>Frank Darabont</td>\n",
       "      <td>8.6</td>\n",
       "      <td>1448376</td>\n",
       "      <td>286801374</td>\n",
       "      <td>136801374</td>\n",
       "      <td>0.523</td>\n",
       "      <td>1999</td>\n",
       "    </tr>\n",
       "  </tbody>\n",
       "</table>\n",
       "</div>"
      ],
      "text/plain": [
       "                      title                          genres  runtime  \\\n",
       "0           the dark knight  Action, Crime, Drama, Thriller      152   \n",
       "1              pulp fiction                    Crime, Drama      154   \n",
       "2                     joker          Crime, Drama, Thriller      122   \n",
       "3  the silence of the lambs          Crime, Drama, Thriller      118   \n",
       "4            the green mile  Crime, Drama, Fantasy, Mystery      189   \n",
       "\n",
       "   age_rating           director  movie_rating  votes_count  \\\n",
       "0          16  Christopher Nolan           9.0      2950798   \n",
       "1          16  Quentin Tarantino           8.9      2279743   \n",
       "2          16      Todd Phillips           8.4      1563871   \n",
       "3          16     Jonathan Demme           8.6      1594731   \n",
       "4          12     Frank Darabont           8.6      1448376   \n",
       "\n",
       "   worldwide_lifetime_gross  domestic_lifetime_gross  foreign_lifetime_gross  \\\n",
       "0                1009053678                534987076                   0.470   \n",
       "1                 213928762                107928762                   0.496   \n",
       "2                1078958629                335477657                   0.689   \n",
       "3                 272742922                130742922                   0.521   \n",
       "4                 286801374                136801374                   0.523   \n",
       "\n",
       "   release_year  \n",
       "0          2008  \n",
       "1          1994  \n",
       "2          2019  \n",
       "3          1991  \n",
       "4          1999  "
      ]
     },
     "execution_count": 4,
     "metadata": {},
     "output_type": "execute_result"
    }
   ],
   "source": [
    "# Query the SQL-table\n",
    "cursor.execute('''SELECT * from movies_table where genres like '%Crime%' limit 5''')\n",
    "\n",
    "results = cursor.fetchall()\n",
    "\n",
    "# Convert the result into a pandas dataframe\n",
    "df_mysql = pd.DataFrame(results)\n",
    "df_mysql.columns = df.columns\n",
    "\n",
    "# Print the result\n",
    "df_mysql"
   ]
  },
  {
   "cell_type": "markdown",
   "id": "55050b77",
   "metadata": {},
   "source": [
    "## Close db connection (if open)"
   ]
  },
  {
   "cell_type": "code",
   "execution_count": 5,
   "id": "9bab8eb4",
   "metadata": {},
   "outputs": [
    {
     "name": "stdout",
     "output_type": "stream",
     "text": [
      "False\n"
     ]
    }
   ],
   "source": [
    "# Close db connection (if open)\n",
    "try:\n",
    "    if check_conn(conn):\n",
    "        conn.close()\n",
    "    else:\n",
    "        pass\n",
    "except:\n",
    "    pass\n",
    "\n",
    "# Status (True = open, False = closed)\n",
    "print(check_conn(conn))"
   ]
  },
  {
   "cell_type": "markdown",
   "id": "bcfb1f34",
   "metadata": {},
   "source": [
    "### Jupyter notebook --footer info-- (please always provide this at the end of each submitted notebook)"
   ]
  },
  {
   "cell_type": "code",
   "execution_count": 6,
   "id": "22021916",
   "metadata": {},
   "outputs": [
    {
     "name": "stdout",
     "output_type": "stream",
     "text": [
      "-----------------------------------\n",
      "NT\n",
      "Windows | 10\n",
      "Datetime: 2025-01-10 12:06:24\n",
      "Python Version: 3.12.4\n",
      "-----------------------------------\n"
     ]
    }
   ],
   "source": [
    "import os\n",
    "import platform\n",
    "import socket\n",
    "from platform import python_version\n",
    "from datetime import datetime\n",
    "\n",
    "print('-----------------------------------')\n",
    "print(os.name.upper())\n",
    "print(platform.system(), '|', platform.release())\n",
    "print('Datetime:', datetime.now().strftime(\"%Y-%m-%d %H:%M:%S\"))\n",
    "print('Python Version:', python_version())\n",
    "print('-----------------------------------')"
   ]
  }
 ],
 "metadata": {
  "kernelspec": {
   "display_name": "Python 3",
   "language": "python",
   "name": "python3"
  },
  "language_info": {
   "codemirror_mode": {
    "name": "ipython",
    "version": 3
   },
   "file_extension": ".py",
   "mimetype": "text/x-python",
   "name": "python",
   "nbconvert_exporter": "python",
   "pygments_lexer": "ipython3",
   "version": "3.11.11"
  }
 },
 "nbformat": 4,
 "nbformat_minor": 5
}
