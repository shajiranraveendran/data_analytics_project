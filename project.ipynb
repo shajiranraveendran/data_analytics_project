{
 "cells": [
  {
   "cell_type": "markdown",
   "metadata": {},
   "source": [
    "**LIBRARIES AND SETTINGS (PART 1)**"
   ]
  },
  {
   "cell_type": "code",
   "execution_count": 2,
   "metadata": {},
   "outputs": [
    {
     "name": "stdout",
     "output_type": "stream",
     "text": [
      "/workspaces/data_analytics_project\n"
     ]
    }
   ],
   "source": [
    "# LIBRARIES\n",
    "import os\n",
    "import re\n",
    "import time\n",
    "import requests\n",
    "import json\n",
    "import folium\n",
    "import fnmatch\n",
    "import numpy as np\n",
    "import pandas as pd\n",
    "from pandas import json_normalize\n",
    "import matplotlib.pyplot as plt\n",
    "import numpy as np\n",
    "import seaborn as sns\n",
    "\n",
    "# IGNORE WARNINGS\n",
    "import warnings\n",
    "warnings.filterwarnings(\"ignore\")\n",
    "\n",
    "# GET CURRENT WORKING DIRECTORY\n",
    "print(os.getcwd())\n"
   ]
  },
  {
   "cell_type": "markdown",
   "metadata": {},
   "source": [
    "---\n",
    "---"
   ]
  },
  {
   "cell_type": "markdown",
   "metadata": {},
   "source": [
    "**DATA IMPORT / ENRICH**"
   ]
  },
  {
   "cell_type": "code",
   "execution_count": 4,
   "metadata": {},
   "outputs": [
    {
     "name": "stdout",
     "output_type": "stream",
     "text": [
      "\n",
      "MERGED DATA:\n",
      "                                           title  \\\n",
      "0                                  the godfather   \n",
      "1                                the dark knight   \n",
      "2                               schindler's list   \n",
      "3  the lord of the rings: the return of the king   \n",
      "4                                   pulp fiction   \n",
      "\n",
      "                              genres  runtime_(mins) age_rating  \\\n",
      "0                       Crime, Drama             175         16   \n",
      "1     Action, Crime, Drama, Thriller             152         16   \n",
      "2          Biography, Drama, History             195         12   \n",
      "3  Action, Adventure, Drama, Fantasy             201         12   \n",
      "4                       Crime, Drama             154         16   \n",
      "\n",
      "               director  movie_rating  votes_count  worldwide_lifetime_gross  \\\n",
      "0  Francis Ford Coppola           9.2      2070969                 250342198   \n",
      "1     Christopher Nolan           9.0      2950798                1009053678   \n",
      "2      Steven Spielberg           9.0      1488804                 322161245   \n",
      "3         Peter Jackson           9.0      2032584                1138263151   \n",
      "4     Quentin Tarantino           8.9      2279743                 213928762   \n",
      "\n",
      "   domestic_lifetime_gross  foreign_lifetime_gross  release_year  \n",
      "0                136381073                   0.455           NaN  \n",
      "1                534987076                   0.470        2008.0  \n",
      "2                 96898818                   0.699        1993.0  \n",
      "3                381878219                   0.664        2003.0  \n",
      "4                107928762                   0.496        1994.0  \n"
     ]
    }
   ],
   "source": [
    "# READ CSV-FILES\n",
    "df_imdb = pd.read_csv('IMDB.csv', sep=';', encoding='utf-8')\n",
    "df_financial = pd.read_csv('BoxOffice.csv', sep=';', encoding='utf-8')\n",
    "\n",
    "# CLEAN DATA\n",
    "df_imdb['title'] = df_imdb['title'].str.strip().str.lower()\n",
    "df_financial['title'] = df_financial['title'].str.strip().str.lower()\n",
    "\n",
    "# MERGE DATA\n",
    "df = pd.merge(df_imdb, df_financial, on='title')\n",
    "\n",
    "# Convert data types\n",
    "df['movie_rating'] = df['movie_rating'].str.replace(',', '.').astype(float)\n",
    "df['worldwide_lifetime_gross'] = df['worldwide_lifetime_gross'].replace('[\\$,]', '', regex=True).astype(int)\n",
    "df['domestic_lifetime_gross'] = df['domestic_lifetime_gross'].replace('[\\$,]', '', regex=True).astype(int)\n",
    "df['foreign_lifetime_gross'] = (df['foreign_lifetime_gross'].replace('[\\%,]', '', regex=True).astype(float) / 100).round(3)\n",
    "df['release_year'] = df['release_year'].astype(int)\n",
    "\n",
    "# PRINT DATA\n",
    "print(\"\\nMERGED DATA:\")\n",
    "print(df.head())\n",
    "\n",
    "# SAVE DATA\n",
    "df.to_csv('IMDB_Merged_Movies.csv', sep=';', index=False, encoding='utf-8')\n"
   ]
  },
  {
   "cell_type": "markdown",
   "metadata": {},
   "source": [
    "**COUNT / DATA TYPE**"
   ]
  },
  {
   "cell_type": "code",
   "execution_count": 29,
   "metadata": {},
   "outputs": [
    {
     "name": "stdout",
     "output_type": "stream",
     "text": [
      "Dimension: (84, 11)\n",
      "Number of rows: 84\n",
      "Number of columns: 11\n"
     ]
    },
    {
     "data": {
      "text/plain": [
       "title                        object\n",
       "genres                       object\n",
       "runtime_(mins)                int64\n",
       "age_rating                   object\n",
       "director                     object\n",
       "movie_rating                float64\n",
       "votes_count                   int64\n",
       "worldwide_lifetime_gross      int64\n",
       "domestic_lifetime_gross       int64\n",
       "foreign_lifetime_gross      float64\n",
       "release_year                float64\n",
       "dtype: object"
      ]
     },
     "execution_count": 29,
     "metadata": {},
     "output_type": "execute_result"
    }
   ],
   "source": [
    "# DIMENSION (ROWS, COLUMNS)\n",
    "print('Dimension:', df.shape)\n",
    "print('Number of rows:', df.shape[0])\n",
    "print('Number of columns:', df.shape[1])\n",
    "\n",
    "# GET DATA TYPES\n",
    "df.dtypes"
   ]
  },
  {
   "cell_type": "markdown",
   "metadata": {},
   "source": [
    "**COUNT / IDENTIFY DUPLICATED VALUES (IF ANY)**"
   ]
  },
  {
   "cell_type": "code",
   "execution_count": 30,
   "metadata": {},
   "outputs": [
    {
     "name": "stdout",
     "output_type": "stream",
     "text": [
      "0\n"
     ]
    },
    {
     "data": {
      "text/html": [
       "<div>\n",
       "<style scoped>\n",
       "    .dataframe tbody tr th:only-of-type {\n",
       "        vertical-align: middle;\n",
       "    }\n",
       "\n",
       "    .dataframe tbody tr th {\n",
       "        vertical-align: top;\n",
       "    }\n",
       "\n",
       "    .dataframe thead th {\n",
       "        text-align: right;\n",
       "    }\n",
       "</style>\n",
       "<table border=\"1\" class=\"dataframe\">\n",
       "  <thead>\n",
       "    <tr style=\"text-align: right;\">\n",
       "      <th></th>\n",
       "      <th>title</th>\n",
       "      <th>genres</th>\n",
       "      <th>runtime_(mins)</th>\n",
       "      <th>age_rating</th>\n",
       "      <th>director</th>\n",
       "      <th>movie_rating</th>\n",
       "      <th>votes_count</th>\n",
       "      <th>worldwide_lifetime_gross</th>\n",
       "      <th>domestic_lifetime_gross</th>\n",
       "      <th>foreign_lifetime_gross</th>\n",
       "      <th>release_year</th>\n",
       "    </tr>\n",
       "  </thead>\n",
       "  <tbody>\n",
       "  </tbody>\n",
       "</table>\n",
       "</div>"
      ],
      "text/plain": [
       "Empty DataFrame\n",
       "Columns: [title, genres, runtime_(mins), age_rating, director, movie_rating, votes_count, worldwide_lifetime_gross, domestic_lifetime_gross, foreign_lifetime_gross, release_year]\n",
       "Index: []"
      ]
     },
     "execution_count": 30,
     "metadata": {},
     "output_type": "execute_result"
    }
   ],
   "source": [
    "# COUNT DUPLICATED VALUES\n",
    "print(df.duplicated().sum())\n",
    "\n",
    "# IDENTIFY ROWS WITH DUPLICATED VALUES\n",
    "df[df[['title','genres','runtime_(mins)','age_rating','director','movie_rating','votes_count','worldwide_lifetime_gross','domestic_lifetime_gross','foreign_lifetime_gross','release_year']].duplicated()]"
   ]
  },
  {
   "cell_type": "markdown",
   "metadata": {},
   "source": [
    "**COUNT / IDENTIFY MISSING VALUES (IF ANY)**"
   ]
  },
  {
   "cell_type": "code",
   "execution_count": 31,
   "metadata": {},
   "outputs": [
    {
     "name": "stdout",
     "output_type": "stream",
     "text": [
      "title                       0\n",
      "genres                      0\n",
      "runtime_(mins)              0\n",
      "age_rating                  0\n",
      "director                    0\n",
      "movie_rating                0\n",
      "votes_count                 0\n",
      "worldwide_lifetime_gross    0\n",
      "domestic_lifetime_gross     0\n",
      "foreign_lifetime_gross      0\n",
      "release_year                4\n",
      "dtype: int64\n"
     ]
    },
    {
     "data": {
      "text/html": [
       "<div>\n",
       "<style scoped>\n",
       "    .dataframe tbody tr th:only-of-type {\n",
       "        vertical-align: middle;\n",
       "    }\n",
       "\n",
       "    .dataframe tbody tr th {\n",
       "        vertical-align: top;\n",
       "    }\n",
       "\n",
       "    .dataframe thead th {\n",
       "        text-align: right;\n",
       "    }\n",
       "</style>\n",
       "<table border=\"1\" class=\"dataframe\">\n",
       "  <thead>\n",
       "    <tr style=\"text-align: right;\">\n",
       "      <th></th>\n",
       "      <th>title</th>\n",
       "      <th>genres</th>\n",
       "      <th>runtime_(mins)</th>\n",
       "      <th>age_rating</th>\n",
       "      <th>director</th>\n",
       "      <th>movie_rating</th>\n",
       "      <th>votes_count</th>\n",
       "      <th>worldwide_lifetime_gross</th>\n",
       "      <th>domestic_lifetime_gross</th>\n",
       "      <th>foreign_lifetime_gross</th>\n",
       "      <th>release_year</th>\n",
       "    </tr>\n",
       "  </thead>\n",
       "  <tbody>\n",
       "    <tr>\n",
       "      <th>0</th>\n",
       "      <td>the godfather</td>\n",
       "      <td>Crime, Drama</td>\n",
       "      <td>175</td>\n",
       "      <td>16</td>\n",
       "      <td>Francis Ford Coppola</td>\n",
       "      <td>9.2</td>\n",
       "      <td>2070969</td>\n",
       "      <td>250342198</td>\n",
       "      <td>136381073</td>\n",
       "      <td>0.455</td>\n",
       "      <td>NaN</td>\n",
       "    </tr>\n",
       "    <tr>\n",
       "      <th>45</th>\n",
       "      <td>gone with the wind</td>\n",
       "      <td>Drama, Romance, War</td>\n",
       "      <td>238</td>\n",
       "      <td>12</td>\n",
       "      <td>Victor Fleming</td>\n",
       "      <td>8.2</td>\n",
       "      <td>340258</td>\n",
       "      <td>402382193</td>\n",
       "      <td>200882193</td>\n",
       "      <td>0.501</td>\n",
       "      <td>NaN</td>\n",
       "    </tr>\n",
       "    <tr>\n",
       "      <th>69</th>\n",
       "      <td>the exorcist</td>\n",
       "      <td>Horror</td>\n",
       "      <td>122</td>\n",
       "      <td>16</td>\n",
       "      <td>William Friedkin</td>\n",
       "      <td>8.1</td>\n",
       "      <td>468436</td>\n",
       "      <td>430872776</td>\n",
       "      <td>233005644</td>\n",
       "      <td>0.459</td>\n",
       "      <td>NaN</td>\n",
       "    </tr>\n",
       "    <tr>\n",
       "      <th>74</th>\n",
       "      <td>jaws</td>\n",
       "      <td>Adventure, Drama, Thriller</td>\n",
       "      <td>124</td>\n",
       "      <td>16</td>\n",
       "      <td>Steven Spielberg</td>\n",
       "      <td>8.1</td>\n",
       "      <td>680207</td>\n",
       "      <td>477220580</td>\n",
       "      <td>266567580</td>\n",
       "      <td>0.441</td>\n",
       "      <td>NaN</td>\n",
       "    </tr>\n",
       "  </tbody>\n",
       "</table>\n",
       "</div>"
      ],
      "text/plain": [
       "                 title                      genres  runtime_(mins) age_rating  \\\n",
       "0        the godfather                Crime, Drama             175         16   \n",
       "45  gone with the wind         Drama, Romance, War             238         12   \n",
       "69        the exorcist                      Horror             122         16   \n",
       "74                jaws  Adventure, Drama, Thriller             124         16   \n",
       "\n",
       "                director  movie_rating  votes_count  worldwide_lifetime_gross  \\\n",
       "0   Francis Ford Coppola           9.2      2070969                 250342198   \n",
       "45        Victor Fleming           8.2       340258                 402382193   \n",
       "69      William Friedkin           8.1       468436                 430872776   \n",
       "74      Steven Spielberg           8.1       680207                 477220580   \n",
       "\n",
       "    domestic_lifetime_gross  foreign_lifetime_gross  release_year  \n",
       "0                 136381073                   0.455           NaN  \n",
       "45                200882193                   0.501           NaN  \n",
       "69                233005644                   0.459           NaN  \n",
       "74                266567580                   0.441           NaN  "
      ]
     },
     "execution_count": 31,
     "metadata": {},
     "output_type": "execute_result"
    }
   ],
   "source": [
    "# COUNT MISSING VALUES\n",
    "print(pd.isna(df).sum())\n",
    "\n",
    "# IDENTIFY ROWS WITH MISSING VALUES\n",
    "df[df.isna().any(axis=1)].head()"
   ]
  },
  {
   "cell_type": "markdown",
   "metadata": {},
   "source": [
    "**DROP ROWS WITH MISSING VALUES**"
   ]
  },
  {
   "cell_type": "code",
   "execution_count": 32,
   "metadata": {},
   "outputs": [
    {
     "name": "stdout",
     "output_type": "stream",
     "text": [
      "(84, 11)\n",
      "(80, 11)\n"
     ]
    }
   ],
   "source": [
    "# DROP MISSING VALUES\n",
    "print(df.shape)\n",
    "df = df.dropna()\n",
    "\n",
    "# DROP DUPLICATED VALUES\n",
    "print(df.shape)"
   ]
  },
  {
   "cell_type": "markdown",
   "metadata": {},
   "source": [
    "---\n",
    "---"
   ]
  },
  {
   "cell_type": "markdown",
   "metadata": {},
   "source": [
    "<U>**EXPLORATORY DATA ANALYSIS (EDA): RICH NON-GRAPHICAL / GRAPHICAL**</U>"
   ]
  },
  {
   "cell_type": "markdown",
   "metadata": {},
   "source": [
    "***DISTRIBUTION: DIRECTORS WITH THE MOST MOVIES***"
   ]
  },
  {
   "cell_type": "code",
   "execution_count": 7,
   "metadata": {},
   "outputs": [
    {
     "data": {
      "text/plain": [
       "director\n",
       "Christopher Nolan    5\n",
       "Steven Spielberg     5\n",
       "Peter Jackson        3\n",
       "Quentin Tarantino    3\n",
       "Martin Scorsese      3\n",
       "Pete Docter          3\n",
       "Robert Zemeckis      2\n",
       "Ridley Scott         2\n",
       "Roger Allers         2\n",
       "Andrew Stanton       2\n",
       "Name: count, dtype: int64"
      ]
     },
     "execution_count": 7,
     "metadata": {},
     "output_type": "execute_result"
    }
   ],
   "source": [
    "df['director'].value_counts().head(10) "
   ]
  },
  {
   "cell_type": "code",
   "execution_count": 8,
   "metadata": {},
   "outputs": [
    {
     "data": {
      "image/png": "[encoded data removed]",
      "text/plain": [
       "<Figure size 700x400 with 1 Axes>"
      ]
     },
     "metadata": {},
     "output_type": "display_data"
    }
   ],
   "source": [
    "\n",
    "# PLOT HISTOGRAM\n",
    "fig = plt.figure( figsize=(7,4))\n",
    "\n",
    "plt.xticks(fontsize=14, rotation=0)\n",
    "plt.yticks(fontsize=14, rotation=0)\n",
    "\n",
    "n, bins, patches = plt.hist(x=df['director'].value_counts(), \n",
    "                            bins=25, \n",
    "                            color='#026c8e',\n",
    "                            alpha=0.5, \n",
    "                            rwidth=0.95\n",
    "                   )\n",
    "plt.grid(True)\n",
    "plt.ticklabel_format(style='plain')\n",
    "plt.grid(alpha=0.2)\n",
    "\n",
    "# SET LABELS\n",
    "plt.title('DISTRIBUTION OF MOVIE RELEASES PER DIRECTOR', fontsize=12, pad=10)\n",
    "plt.xlabel('NUMBER OF MOVIE RELEASES', fontsize=10, labelpad=10)\n",
    "plt.ylabel('NUMBER OF DIRECTOR', fontsize=10, labelpad=10)\n",
    "\n",
    "# SET FONT SIZE OF LABELS\n",
    "plt.xticks(fontsize = 10)\n",
    "plt.yticks(fontsize = 10)\n",
    "\n",
    "plt.show()"
   ]
  },
  {
   "cell_type": "markdown",
   "metadata": {},
   "source": [
    "***DISTRIBUTION: MOVIES BY RELEASE YEAR***"
   ]
  },
  {
   "cell_type": "code",
   "execution_count": 9,
   "metadata": {},
   "outputs": [
    {
     "data": {
      "text/plain": [
       "release_year\n",
       "2019.0    6\n",
       "2010.0    5\n",
       "1999.0    4\n",
       "2014.0    4\n",
       "2017.0    4\n",
       "1991.0    4\n",
       "2008.0    3\n",
       "2018.0    3\n",
       "2015.0    3\n",
       "2012.0    3\n",
       "Name: count, dtype: int64"
      ]
     },
     "execution_count": 9,
     "metadata": {},
     "output_type": "execute_result"
    }
   ],
   "source": [
    "df['release_year'].value_counts().head(10) "
   ]
  },
  {
   "cell_type": "code",
   "execution_count": 10,
   "metadata": {},
   "outputs": [
    {
     "data": {
      "image/png": "[encoded data removed]",
      "text/plain": [
       "<Figure size 700x400 with 1 Axes>"
      ]
     },
     "metadata": {},
     "output_type": "display_data"
    }
   ],
   "source": [
    "# MOVIE RELEASES BY YEAR\n",
    "release_year_counts = df['release_year'].value_counts().sort_index()\n",
    "\n",
    "# PLOT BAR CHART\n",
    "fig = plt.figure(figsize=(7, 4))\n",
    "\n",
    "release_year_counts.plot(kind='bar', color='#026c8e', alpha=0.5)\n",
    "plt.grid(True)\n",
    "plt.grid(alpha=0.2)\n",
    "\n",
    "# SET LABELS\n",
    "plt.title('NUMBER OF MOVIES RELEASED PER YEAR', fontsize=14)\n",
    "plt.xlabel('RELEASE YEAR', fontsize=12)\n",
    "plt.ylabel('NUMBER OF MOVIES', fontsize=12)\n",
    "\n",
    "# SET FONT SIZE OF LABELS\n",
    "plt.xticks(fontsize=10, rotation=45)\n",
    "plt.yticks(fontsize=10)\n",
    "\n",
    "plt.show()\n"
   ]
  },
  {
   "cell_type": "markdown",
   "metadata": {},
   "source": [
    "**CREATE NEW VARIABLE (CATEGORIAL / V1)**"
   ]
  },
  {
   "cell_type": "code",
   "execution_count": 11,
   "metadata": {},
   "outputs": [
    {
     "name": "stdout",
     "output_type": "stream",
     "text": [
      "    release_year year_cat2\n",
      "1           2008     2000s\n",
      "2           1993     1990s\n",
      "3           2003     2000s\n",
      "4           1994     1990s\n",
      "5           2001     2000s\n",
      "6           1994     1990s\n",
      "7           2010     2000s\n",
      "8           1980     1970s\n",
      "9           2002     2000s\n",
      "10          2019     2010s\n"
     ]
    }
   ],
   "source": [
    "# DEFINE LABLES\n",
    "labels_price = ['1950s', '1960s', '1970s', '1980s', '1990s', '2000s', '2010s']\n",
    "\n",
    "# CONVERT RELEASE_YEAR TO INTEGER WITH ERROR HANDLING\n",
    "if 'release_year' in df.columns:\n",
    "    df['release_year'] = df['release_year'].astype(int)\n",
    "\n",
    "# CREATE CATEGORIES \n",
    "df[\"year_cat2\"] = pd.cut(df['release_year'], bins=[ 1950, 1960, 1970, 1980, 1990, 2000, 2010, 2020],labels=labels_price)\n",
    "\n",
    "# SHOW CATEGORIES\n",
    "print(df[['release_year', 'year_cat2']].head(10))\n"
   ]
  },
  {
   "cell_type": "code",
   "execution_count": 12,
   "metadata": {},
   "outputs": [
    {
     "data": {
      "image/png": "[encoded data removed]",
      "text/plain": [
       "<Figure size 700x400 with 1 Axes>"
      ]
     },
     "metadata": {},
     "output_type": "display_data"
    }
   ],
   "source": [
    "# DISPLAY BAR CHART\n",
    "fig = plt.figure(figsize=(7,4))\n",
    "\n",
    "# COUNT CATEGORIES\n",
    "category_counts = df['year_cat2'].value_counts().sort_index()\n",
    "\n",
    "# PLOT BAR CHART\n",
    "category_counts.plot(kind='bar', color='#026c8e', alpha=0.5)\n",
    "plt.grid(True)\n",
    "plt.grid(alpha=0.2)\n",
    "\n",
    "# SET LABELS\n",
    "plt.title('DISTRIBUTION OF MOVIE RELEASE YEARS BY DECADE', fontsize=14)\n",
    "plt.xlabel('DECADES', fontsize=12)\n",
    "plt.ylabel('NUMBER OF MOVIES', fontsize=12)\n",
    "plt.xticks(fontsize=10, rotation=45)\n",
    "plt.yticks(fontsize=10)\n",
    "\n",
    "plt.show()\n"
   ]
  },
  {
   "cell_type": "markdown",
   "metadata": {},
   "source": [
    "**CREATE NEW VARIABLE (CATEGORIAL / V2)**"
   ]
  },
  {
   "cell_type": "code",
   "execution_count": 13,
   "metadata": {},
   "outputs": [
    {
     "name": "stdout",
     "output_type": "stream",
     "text": [
      "    release_year     year_cat\n",
      "1           2008  2000 - 2009\n",
      "2           1993  1990 - 1999\n",
      "3           2003  2000 - 2009\n",
      "4           1994  1990 - 1999\n",
      "5           2001  2000 - 2009\n",
      "6           1994  1990 - 1999\n",
      "7           2010  2000 - 2009\n",
      "8           1980  1970 - 1979\n",
      "9           2002  2000 - 2009\n",
      "10          2019  2010 - 2019\n"
     ]
    }
   ],
   "source": [
    "# DEFINE LABELS\n",
    "labels = ['1970 - 1979', '1980 - 1989', '1990 - 1999', '2000 - 2009', '2010 - 2019']\n",
    "\n",
    "# CONVERT RELEASE_YEAR TO INTEGER WITH ERROR HANDLING\n",
    "if 'release_year' in df.columns:\n",
    "    df['release_year'] = df['release_year'].astype(int)\n",
    "\n",
    "# CREATE CATEGORIES\n",
    "df[\"year_cat\"] = pd.cut(df['release_year'], bins=[1970, 1980, 1990, 2000, 2010, 2020], labels=labels)\n",
    "\n",
    "# SHOW CATEGORIES\n",
    "print(df[['release_year', 'year_cat']].head(10))\n"
   ]
  },
  {
   "cell_type": "code",
   "execution_count": 14,
   "metadata": {},
   "outputs": [
    {
     "data": {
      "image/png": "[encoded data removed]",
      "text/plain": [
       "<Figure size 700x400 with 1 Axes>"
      ]
     },
     "metadata": {},
     "output_type": "display_data"
    }
   ],
   "source": [
    "# DISPLAY HISTOGRAM\n",
    "fig = plt.figure(figsize=(7, 4))\n",
    "\n",
    "# PLOT HISTOGRAM\n",
    "plt.hist(df['release_year'], bins=[1970, 1980, 1990, 2000, 2010, 2020], color='#026c8e', alpha=0.4, rwidth=0.95)\n",
    "\n",
    "# SET GRID AND FORMAT\n",
    "plt.grid(True)\n",
    "plt.grid(alpha=0.2)\n",
    "\n",
    "# SET LABELS\n",
    "plt.title('DISTRIBUTION OF MOVIE RELEASE YEARS BY DECADE', fontsize=14)\n",
    "plt.xlabel('DECADES', fontsize=12)\n",
    "plt.ylabel('NUMBER OF MOVIES', fontsize=12)\n",
    "plt.xticks([1975, 1985, 1995, 2005, 2015], ['1970-1979', '1980-1989', '1990-1999', '2000-2009', '2010-2019'], fontsize=10, rotation=45)\n",
    "plt.yticks(fontsize=10)\n",
    "\n",
    "plt.show()\n"
   ]
  },
  {
   "cell_type": "markdown",
   "metadata": {},
   "source": [
    "<U>**STATISTICS**</U>"
   ]
  },
  {
   "cell_type": "markdown",
   "metadata": {},
   "source": [
    "***SUMMARY STATISTICS OF NUMERIC VARIABLES***"
   ]
  },
  {
   "cell_type": "code",
   "execution_count": 15,
   "metadata": {},
   "outputs": [
    {
     "data": {
      "text/html": [
       "<div>\n",
       "<style scoped>\n",
       "    .dataframe tbody tr th:only-of-type {\n",
       "        vertical-align: middle;\n",
       "    }\n",
       "\n",
       "    .dataframe tbody tr th {\n",
       "        vertical-align: top;\n",
       "    }\n",
       "\n",
       "    .dataframe thead th {\n",
       "        text-align: right;\n",
       "    }\n",
       "</style>\n",
       "<table border=\"1\" class=\"dataframe\">\n",
       "  <thead>\n",
       "    <tr style=\"text-align: right;\">\n",
       "      <th></th>\n",
       "      <th>runtime_(mins)</th>\n",
       "      <th>votes_count</th>\n",
       "      <th>release_year</th>\n",
       "    </tr>\n",
       "  </thead>\n",
       "  <tbody>\n",
       "    <tr>\n",
       "      <th>count</th>\n",
       "      <td>80.00</td>\n",
       "      <td>80.00</td>\n",
       "      <td>80.00</td>\n",
       "    </tr>\n",
       "    <tr>\n",
       "      <th>mean</th>\n",
       "      <td>133.07</td>\n",
       "      <td>1162905.56</td>\n",
       "      <td>2004.49</td>\n",
       "    </tr>\n",
       "    <tr>\n",
       "      <th>std</th>\n",
       "      <td>29.54</td>\n",
       "      <td>562810.51</td>\n",
       "      <td>10.81</td>\n",
       "    </tr>\n",
       "    <tr>\n",
       "      <th>min</th>\n",
       "      <td>81.00</td>\n",
       "      <td>40297.00</td>\n",
       "      <td>1977.00</td>\n",
       "    </tr>\n",
       "    <tr>\n",
       "      <th>25%</th>\n",
       "      <td>114.75</td>\n",
       "      <td>749621.25</td>\n",
       "      <td>1995.00</td>\n",
       "    </tr>\n",
       "    <tr>\n",
       "      <th>50%</th>\n",
       "      <td>130.50</td>\n",
       "      <td>1121958.50</td>\n",
       "      <td>2006.50</td>\n",
       "    </tr>\n",
       "    <tr>\n",
       "      <th>75%</th>\n",
       "      <td>151.25</td>\n",
       "      <td>1485854.25</td>\n",
       "      <td>2014.00</td>\n",
       "    </tr>\n",
       "    <tr>\n",
       "      <th>max</th>\n",
       "      <td>201.00</td>\n",
       "      <td>2950798.00</td>\n",
       "      <td>2019.00</td>\n",
       "    </tr>\n",
       "  </tbody>\n",
       "</table>\n",
       "</div>"
      ],
      "text/plain": [
       "       runtime_(mins)  votes_count  release_year\n",
       "count           80.00        80.00         80.00\n",
       "mean           133.07   1162905.56       2004.49\n",
       "std             29.54    562810.51         10.81\n",
       "min             81.00     40297.00       1977.00\n",
       "25%            114.75    749621.25       1995.00\n",
       "50%            130.50   1121958.50       2006.50\n",
       "75%            151.25   1485854.25       2014.00\n",
       "max            201.00   2950798.00       2019.00"
      ]
     },
     "execution_count": 15,
     "metadata": {},
     "output_type": "execute_result"
    }
   ],
   "source": [
    "df.describe().round(2)"
   ]
  },
  {
   "cell_type": "markdown",
   "metadata": {},
   "source": [
    "***QUANTILES VALUES***"
   ]
  },
  {
   "cell_type": "code",
   "execution_count": 16,
   "metadata": {},
   "outputs": [
    {
     "data": {
      "text/html": [
       "<div>\n",
       "<style scoped>\n",
       "    .dataframe tbody tr th:only-of-type {\n",
       "        vertical-align: middle;\n",
       "    }\n",
       "\n",
       "    .dataframe tbody tr th {\n",
       "        vertical-align: top;\n",
       "    }\n",
       "\n",
       "    .dataframe thead th {\n",
       "        text-align: right;\n",
       "    }\n",
       "</style>\n",
       "<table border=\"1\" class=\"dataframe\">\n",
       "  <thead>\n",
       "    <tr style=\"text-align: right;\">\n",
       "      <th></th>\n",
       "      <th>release_year</th>\n",
       "      <th>runtime_(mins)</th>\n",
       "    </tr>\n",
       "  </thead>\n",
       "  <tbody>\n",
       "    <tr>\n",
       "      <th>0.05</th>\n",
       "      <td>1987.85</td>\n",
       "      <td>88.00</td>\n",
       "    </tr>\n",
       "    <tr>\n",
       "      <th>0.10</th>\n",
       "      <td>1990.90</td>\n",
       "      <td>94.70</td>\n",
       "    </tr>\n",
       "    <tr>\n",
       "      <th>0.25</th>\n",
       "      <td>1995.00</td>\n",
       "      <td>114.75</td>\n",
       "    </tr>\n",
       "    <tr>\n",
       "      <th>0.50</th>\n",
       "      <td>2006.50</td>\n",
       "      <td>130.50</td>\n",
       "    </tr>\n",
       "    <tr>\n",
       "      <th>0.75</th>\n",
       "      <td>2014.00</td>\n",
       "      <td>151.25</td>\n",
       "    </tr>\n",
       "    <tr>\n",
       "      <th>0.90</th>\n",
       "      <td>2018.00</td>\n",
       "      <td>178.10</td>\n",
       "    </tr>\n",
       "    <tr>\n",
       "      <th>0.95</th>\n",
       "      <td>2019.00</td>\n",
       "      <td>181.40</td>\n",
       "    </tr>\n",
       "  </tbody>\n",
       "</table>\n",
       "</div>"
      ],
      "text/plain": [
       "      release_year  runtime_(mins)\n",
       "0.05       1987.85           88.00\n",
       "0.10       1990.90           94.70\n",
       "0.25       1995.00          114.75\n",
       "0.50       2006.50          130.50\n",
       "0.75       2014.00          151.25\n",
       "0.90       2018.00          178.10\n",
       "0.95       2019.00          181.40"
      ]
     },
     "execution_count": 16,
     "metadata": {},
     "output_type": "execute_result"
    }
   ],
   "source": [
    "df[['release_year', 'runtime_(mins)']].quantile(q=[0.05, 0.10, 0.25, 0.50, 0.75, 0.90, 0.95]).round(2)"
   ]
  },
  {
   "cell_type": "markdown",
   "metadata": {},
   "source": [
    "---\n",
    "---"
   ]
  },
  {
   "cell_type": "markdown",
   "metadata": {},
   "source": [
    "**LIBRARIES AND SETTINGS (PART 2)**"
   ]
  },
  {
   "cell_type": "code",
   "execution_count": 17,
   "metadata": {},
   "outputs": [],
   "source": [
    "# Libraries\n",
    "import os\n",
    "import numpy as np\n",
    "import pandas as pd\n",
    "import scipy.stats as stats\n",
    "import statsmodels.api as sm\n",
    "import matplotlib.pyplot as plt\n",
    "from sklearn import linear_model\n",
    "from sklearn.model_selection import train_test_split\n",
    "from sklearn.cluster import KMeans\n",
    "from sklearn.preprocessing import StandardScaler\n",
    "\n",
    "# Ignore warnings\n",
    "import warnings\n",
    "warnings.filterwarnings('ignore')"
   ]
  },
  {
   "cell_type": "markdown",
   "metadata": {},
   "source": [
    "## Regression Model"
   ]
  },
  {
   "cell_type": "markdown",
   "metadata": {},
   "source": [
    "### Change datatype"
   ]
  },
  {
   "cell_type": "code",
   "execution_count": 18,
   "metadata": {},
   "outputs": [
    {
     "name": "stdout",
     "output_type": "stream",
     "text": [
      "float64\n"
     ]
    }
   ],
   "source": [
    "# Change datatype of movie_rating to float\n",
    "df['movie_rating'] = df['movie_rating'].str.replace(',', '.').astype(float)\n",
    "\n",
    "print(df['movie_rating'].dtype)"
   ]
  },
  {
   "cell_type": "markdown",
   "metadata": {},
   "source": [
    "### Train and test samples, train 80% test 20%"
   ]
  },
  {
   "cell_type": "code",
   "execution_count": 19,
   "metadata": {},
   "outputs": [
    {
     "name": "stdout",
     "output_type": "stream",
     "text": [
      "X_train:\n",
      "77     556149\n",
      "63    1297306\n",
      "57     869288\n",
      "41    1615263\n",
      "10    1563871\n",
      "Name: votes_count, dtype: int64 \n",
      "\n",
      "y_train:\n",
      "77    8.0\n",
      "63    8.0\n",
      "57    8.1\n",
      "41    8.2\n",
      "10    8.4\n",
      "Name: movie_rating, dtype: float64\n"
     ]
    }
   ],
   "source": [
    "# Create train and test samples for runtime\n",
    "X_train, X_test, y_train, y_test = train_test_split(df['votes_count'], \n",
    "                                                    df['movie_rating'], \n",
    "                                                    test_size=0.20, \n",
    "                                                    random_state=42)\n",
    "# Show X_train\n",
    "print('X_train:')\n",
    "print(X_train.head(), '\\n')\n",
    "\n",
    "# Show y_train\n",
    "print('y_train:')\n",
    "print(y_train.head())\n",
    "\n",
    "# Modell soll versuchen vorherzusagen, wie gut ein Film bewertet wird, basierend auf der Anzahl der Bewertungen"
   ]
  },
  {
   "cell_type": "markdown",
   "metadata": {},
   "source": [
    "### Fit the simple linear regression model"
   ]
  },
  {
   "cell_type": "code",
   "execution_count": 20,
   "metadata": {},
   "outputs": [
    {
     "name": "stdout",
     "output_type": "stream",
     "text": [
      "Linear regression result:\n",
      "Intercept with y-axis (alpha):            7.81\n",
      "Slope of regression line (beta):          0.000\n",
      "p-value:                                  0.0000\n",
      "R-squared (coefficient of determination): 0.6509\n"
     ]
    }
   ],
   "source": [
    "# Fit the regression model for release year\n",
    "slope, intercept, r, p, std_err = stats.linregress(X_train, y_train)\n",
    "\n",
    "# Print results of the regression model\n",
    "print('Linear regression result:')\n",
    "print(f'Intercept with y-axis (alpha):            {intercept:.2f}')\n",
    "print(f'Slope of regression line (beta):          {slope:.3f}')\n",
    "print(f'p-value:                                  {p:.4f}')\n",
    "print(f'R-squared (coefficient of determination): {r**2:.4f}')"
   ]
  },
  {
   "cell_type": "markdown",
   "metadata": {},
   "source": [
    "### Plot regression line"
   ]
  },
  {
   "cell_type": "code",
   "execution_count": 21,
   "metadata": {},
   "outputs": [
    {
     "data": {
      "image/png": "[encoded data removed]",
      "text/plain": [
       "<Figure size 600x400 with 1 Axes>"
      ]
     },
     "metadata": {},
     "output_type": "display_data"
    }
   ],
   "source": [
    "# Function to calculate model predictions\n",
    "def myfunc(x):\n",
    "    return slope * x + intercept\n",
    "\n",
    "# Apply myfunc() to x, i.e. make predictions \n",
    "mymodel = pd.Series(map(myfunc, X_train))\n",
    "\n",
    "# Scatterplot with regression line\n",
    "plt.figure(figsize=(6,4))\n",
    "plt.scatter(X_train, y_train, s=10, color='green')\n",
    "plt.plot(X_train, mymodel, color='darkred', linestyle='dashed')\n",
    "plt.title('Simple Linear Regression')\n",
    "plt.xlabel('votes count')\n",
    "plt.ylabel('movie rating')\n",
    "\n",
    "plt.show()"
   ]
  },
  {
   "cell_type": "markdown",
   "metadata": {},
   "source": [
    "### Check model residuals"
   ]
  },
  {
   "cell_type": "code",
   "execution_count": 22,
   "metadata": {},
   "outputs": [
    {
     "name": "stdout",
     "output_type": "stream",
     "text": [
      "1st Predicted rating in dataset: 8.04\n"
     ]
    },
    {
     "ename": "KeyError",
     "evalue": "0",
     "output_type": "error",
     "traceback": [
      "\u001b[0;31m---------------------------------------------------------------------------\u001b[0m",
      "\u001b[0;31mKeyError\u001b[0m                                  Traceback (most recent call last)",
      "File \u001b[0;32m~/.local/lib/python3.11/site-packages/pandas/core/indexes/base.py:3805\u001b[0m, in \u001b[0;36mIndex.get_loc\u001b[0;34m(self, key)\u001b[0m\n\u001b[1;32m   3804\u001b[0m \u001b[38;5;28;01mtry\u001b[39;00m:\n\u001b[0;32m-> 3805\u001b[0m     \u001b[38;5;28;01mreturn\u001b[39;00m \u001b[38;5;28;43mself\u001b[39;49m\u001b[38;5;241;43m.\u001b[39;49m\u001b[43m_engine\u001b[49m\u001b[38;5;241;43m.\u001b[39;49m\u001b[43mget_loc\u001b[49m\u001b[43m(\u001b[49m\u001b[43mcasted_key\u001b[49m\u001b[43m)\u001b[49m\n\u001b[1;32m   3806\u001b[0m \u001b[38;5;28;01mexcept\u001b[39;00m \u001b[38;5;167;01mKeyError\u001b[39;00m \u001b[38;5;28;01mas\u001b[39;00m err:\n",
      "File \u001b[0;32mindex.pyx:167\u001b[0m, in \u001b[0;36mpandas._libs.index.IndexEngine.get_loc\u001b[0;34m()\u001b[0m\n",
      "File \u001b[0;32mindex.pyx:196\u001b[0m, in \u001b[0;36mpandas._libs.index.IndexEngine.get_loc\u001b[0;34m()\u001b[0m\n",
      "File \u001b[0;32mpandas/_libs/hashtable_class_helper.pxi:2606\u001b[0m, in \u001b[0;36mpandas._libs.hashtable.Int64HashTable.get_item\u001b[0;34m()\u001b[0m\n",
      "File \u001b[0;32mpandas/_libs/hashtable_class_helper.pxi:2630\u001b[0m, in \u001b[0;36mpandas._libs.hashtable.Int64HashTable.get_item\u001b[0;34m()\u001b[0m\n",
      "\u001b[0;31mKeyError\u001b[0m: 0",
      "\nThe above exception was the direct cause of the following exception:\n",
      "\u001b[0;31mKeyError\u001b[0m                                  Traceback (most recent call last)",
      "Cell \u001b[0;32mIn[22], line 6\u001b[0m\n\u001b[1;32m      4\u001b[0m \u001b[38;5;66;03m# Check the first residual value in our data set\u001b[39;00m\n\u001b[1;32m      5\u001b[0m \u001b[38;5;28mprint\u001b[39m(\u001b[38;5;124mf\u001b[39m\u001b[38;5;124m'\u001b[39m\u001b[38;5;124m1st Predicted rating in dataset: \u001b[39m\u001b[38;5;132;01m{\u001b[39;00mmymodel[\u001b[38;5;241m0\u001b[39m]\u001b[38;5;132;01m:\u001b[39;00m\u001b[38;5;124m.2f\u001b[39m\u001b[38;5;132;01m}\u001b[39;00m\u001b[38;5;124m'\u001b[39m)\n\u001b[0;32m----> 6\u001b[0m \u001b[38;5;28mprint\u001b[39m(\u001b[38;5;124mf\u001b[39m\u001b[38;5;124m'\u001b[39m\u001b[38;5;124m1st Observed rating in dataset: \u001b[39m\u001b[38;5;132;01m{\u001b[39;00m\u001b[43my_train\u001b[49m\u001b[43m[\u001b[49m\u001b[38;5;241;43m0\u001b[39;49m\u001b[43m]\u001b[49m\u001b[38;5;132;01m:\u001b[39;00m\u001b[38;5;124m.2f\u001b[39m\u001b[38;5;132;01m}\u001b[39;00m\u001b[38;5;124m'\u001b[39m)\n\u001b[1;32m      7\u001b[0m \u001b[38;5;28mprint\u001b[39m(\u001b[38;5;124mf\u001b[39m\u001b[38;5;124m'\u001b[39m\u001b[38;5;124m1st Residual rating in dataset: \u001b[39m\u001b[38;5;132;01m{\u001b[39;00mresiduals[\u001b[38;5;241m0\u001b[39m]\u001b[38;5;132;01m:\u001b[39;00m\u001b[38;5;124m.2f\u001b[39m\u001b[38;5;132;01m}\u001b[39;00m\u001b[38;5;124m'\u001b[39m)\n",
      "File \u001b[0;32m~/.local/lib/python3.11/site-packages/pandas/core/series.py:1121\u001b[0m, in \u001b[0;36mSeries.__getitem__\u001b[0;34m(self, key)\u001b[0m\n\u001b[1;32m   1118\u001b[0m     \u001b[38;5;28;01mreturn\u001b[39;00m \u001b[38;5;28mself\u001b[39m\u001b[38;5;241m.\u001b[39m_values[key]\n\u001b[1;32m   1120\u001b[0m \u001b[38;5;28;01melif\u001b[39;00m key_is_scalar:\n\u001b[0;32m-> 1121\u001b[0m     \u001b[38;5;28;01mreturn\u001b[39;00m \u001b[38;5;28;43mself\u001b[39;49m\u001b[38;5;241;43m.\u001b[39;49m\u001b[43m_get_value\u001b[49m\u001b[43m(\u001b[49m\u001b[43mkey\u001b[49m\u001b[43m)\u001b[49m\n\u001b[1;32m   1123\u001b[0m \u001b[38;5;66;03m# Convert generator to list before going through hashable part\u001b[39;00m\n\u001b[1;32m   1124\u001b[0m \u001b[38;5;66;03m# (We will iterate through the generator there to check for slices)\u001b[39;00m\n\u001b[1;32m   1125\u001b[0m \u001b[38;5;28;01mif\u001b[39;00m is_iterator(key):\n",
      "File \u001b[0;32m~/.local/lib/python3.11/site-packages/pandas/core/series.py:1237\u001b[0m, in \u001b[0;36mSeries._get_value\u001b[0;34m(self, label, takeable)\u001b[0m\n\u001b[1;32m   1234\u001b[0m     \u001b[38;5;28;01mreturn\u001b[39;00m \u001b[38;5;28mself\u001b[39m\u001b[38;5;241m.\u001b[39m_values[label]\n\u001b[1;32m   1236\u001b[0m \u001b[38;5;66;03m# Similar to Index.get_value, but we do not fall back to positional\u001b[39;00m\n\u001b[0;32m-> 1237\u001b[0m loc \u001b[38;5;241m=\u001b[39m \u001b[38;5;28;43mself\u001b[39;49m\u001b[38;5;241;43m.\u001b[39;49m\u001b[43mindex\u001b[49m\u001b[38;5;241;43m.\u001b[39;49m\u001b[43mget_loc\u001b[49m\u001b[43m(\u001b[49m\u001b[43mlabel\u001b[49m\u001b[43m)\u001b[49m\n\u001b[1;32m   1239\u001b[0m \u001b[38;5;28;01mif\u001b[39;00m is_integer(loc):\n\u001b[1;32m   1240\u001b[0m     \u001b[38;5;28;01mreturn\u001b[39;00m \u001b[38;5;28mself\u001b[39m\u001b[38;5;241m.\u001b[39m_values[loc]\n",
      "File \u001b[0;32m~/.local/lib/python3.11/site-packages/pandas/core/indexes/base.py:3812\u001b[0m, in \u001b[0;36mIndex.get_loc\u001b[0;34m(self, key)\u001b[0m\n\u001b[1;32m   3807\u001b[0m     \u001b[38;5;28;01mif\u001b[39;00m \u001b[38;5;28misinstance\u001b[39m(casted_key, \u001b[38;5;28mslice\u001b[39m) \u001b[38;5;129;01mor\u001b[39;00m (\n\u001b[1;32m   3808\u001b[0m         \u001b[38;5;28misinstance\u001b[39m(casted_key, abc\u001b[38;5;241m.\u001b[39mIterable)\n\u001b[1;32m   3809\u001b[0m         \u001b[38;5;129;01mand\u001b[39;00m \u001b[38;5;28many\u001b[39m(\u001b[38;5;28misinstance\u001b[39m(x, \u001b[38;5;28mslice\u001b[39m) \u001b[38;5;28;01mfor\u001b[39;00m x \u001b[38;5;129;01min\u001b[39;00m casted_key)\n\u001b[1;32m   3810\u001b[0m     ):\n\u001b[1;32m   3811\u001b[0m         \u001b[38;5;28;01mraise\u001b[39;00m InvalidIndexError(key)\n\u001b[0;32m-> 3812\u001b[0m     \u001b[38;5;28;01mraise\u001b[39;00m \u001b[38;5;167;01mKeyError\u001b[39;00m(key) \u001b[38;5;28;01mfrom\u001b[39;00m \u001b[38;5;21;01merr\u001b[39;00m\n\u001b[1;32m   3813\u001b[0m \u001b[38;5;28;01mexcept\u001b[39;00m \u001b[38;5;167;01mTypeError\u001b[39;00m:\n\u001b[1;32m   3814\u001b[0m     \u001b[38;5;66;03m# If we have a listlike key, _check_indexing_error will raise\u001b[39;00m\n\u001b[1;32m   3815\u001b[0m     \u001b[38;5;66;03m#  InvalidIndexError. Otherwise we fall through and re-raise\u001b[39;00m\n\u001b[1;32m   3816\u001b[0m     \u001b[38;5;66;03m#  the TypeError.\u001b[39;00m\n\u001b[1;32m   3817\u001b[0m     \u001b[38;5;28mself\u001b[39m\u001b[38;5;241m.\u001b[39m_check_indexing_error(key)\n",
      "\u001b[0;31mKeyError\u001b[0m: 0"
     ]
    }
   ],
   "source": [
    "# Calculate model residuals for train data\n",
    "residuals = y_train - mymodel\n",
    "\n",
    "# Check the first residual value in our data set\n",
    "print(f'1st Predicted rating in dataset: {mymodel[0]:.2f}')\n",
    "print(f'1st Observed rating in dataset: {y_train[0]:.2f}')\n",
    "print(f'1st Residual rating in dataset: {residuals[0]:.2f}')"
   ]
  },
  {
   "cell_type": "markdown",
   "metadata": {},
   "source": [
    "### Plot histogram of residuals"
   ]
  },
  {
   "cell_type": "code",
   "execution_count": null,
   "metadata": {},
   "outputs": [
    {
     "data": {
      "image/png": "[encoded data removed]",
      "text/plain": [
       "<Figure size 700x400 with 1 Axes>"
      ]
     },
     "metadata": {},
     "output_type": "display_data"
    }
   ],
   "source": [
    "# Plot histogram of residuals\n",
    "fig = plt.figure( figsize=(7,4))\n",
    "n, bins, patches = plt.hist(x=residuals, \n",
    "                            bins=25, \n",
    "                            color='blue',\n",
    "                            alpha=0.5\n",
    "                   )\n",
    "\n",
    "# Set title and labels\n",
    "plt.xlabel('residuals', fontsize=10, labelpad=10)\n",
    "plt.ylabel('frequency', fontsize=10, labelpad=10)\n",
    "plt.title('Histogram of model residuals', fontsize=12, pad=10)\n",
    "\n",
    "# Show plot\n",
    "plt.show()"
   ]
  },
  {
   "cell_type": "markdown",
   "metadata": {},
   "source": [
    "### Compare the observed votes with the predicted votes"
   ]
  },
  {
   "cell_type": "code",
   "execution_count": 134,
   "metadata": {},
   "outputs": [
    {
     "name": "stdout",
     "output_type": "stream",
     "text": [
      "Observed rating: 8.1, Predicted rating: 8.2\n",
      "Observed rating: 9.0, Predicted rating: 8.6\n",
      "Observed rating: 8.2, Predicted rating: 8.1\n",
      "Observed rating: 8.4, Predicted rating: 8.2\n",
      "Observed rating: 8.2, Predicted rating: 8.1\n",
      "Observed rating: 8.1, Predicted rating: 8.2\n",
      "Observed rating: 8.1, Predicted rating: 8.0\n",
      "Observed rating: 8.1, Predicted rating: 8.3\n",
      "Observed rating: 8.8, Predicted rating: 8.7\n",
      "Observed rating: 8.2, Predicted rating: 8.0\n"
     ]
    }
   ],
   "source": [
    "# Create model predictions for test data\n",
    "predicted = myfunc(X_test)\n",
    "predicted.round(1)\n",
    "\n",
    "# Compare the observed prices with the predicted prices\n",
    "for i in range(0,10):\n",
    "    print(f'Observed rating: {y_test.iloc[i]:.1f}, Predicted rating: {predicted.iloc[i]:.1f}')"
   ]
  },
  {
   "cell_type": "markdown",
   "metadata": {},
   "source": [
    "## Multiple linear regression"
   ]
  },
  {
   "cell_type": "markdown",
   "metadata": {},
   "source": [
    "### Create train and test samples (train = 80%, test = 20% of the data)"
   ]
  },
  {
   "cell_type": "code",
   "execution_count": 135,
   "metadata": {},
   "outputs": [
    {
     "name": "stdout",
     "output_type": "stream",
     "text": [
      "X2_train:\n",
      "     release_year  votes_count  runtime_(mins)\n",
      "132          1926       100314              78\n",
      "225          1965       268151             172\n",
      "238          1948       157842              80\n",
      "119          2015       841663              95\n",
      "136          2009       191460              92 \n",
      "\n",
      "y2_train:\n",
      "132    8.1\n",
      "225    8.1\n",
      "238    7.9\n",
      "119    8.1\n",
      "136    8.1\n",
      "Name: movie_rating, dtype: float64\n"
     ]
    }
   ],
   "source": [
    "# Create train and test samples (we name it X2_ and y_2 because we already used X_ and y_ above)\n",
    "X2_train, X2_test, y2_train, y2_test = train_test_split(df[['release_year',\n",
    "                                                            'votes_count',\n",
    "                                                            'runtime_(mins)']], \n",
    "                                                        df['movie_rating'], \n",
    "                                                        test_size=0.20, \n",
    "                                                        random_state=42)\n",
    "\n",
    "# Show X2_train\n",
    "print('X2_train:')\n",
    "print(X2_train.head(), '\\n')\n",
    "\n",
    "# Show y2_train\n",
    "print('y2_train:')\n",
    "print(y2_train.head())"
   ]
  },
  {
   "cell_type": "markdown",
   "metadata": {},
   "source": [
    "### fit the regression model"
   ]
  },
  {
   "cell_type": "code",
   "execution_count": 136,
   "metadata": {},
   "outputs": [
    {
     "name": "stdout",
     "output_type": "stream",
     "text": [
      "                            OLS Regression Results                            \n",
      "==============================================================================\n",
      "Dep. Variable:           movie_rating   R-squared:                       0.651\n",
      "Model:                            OLS   Adj. R-squared:                  0.646\n",
      "Method:                 Least Squares   F-statistic:                     121.8\n",
      "Date:                Thu, 09 Jan 2025   Prob (F-statistic):           1.49e-44\n",
      "Time:                        08:57:04   Log-Likelihood:                 97.199\n",
      "No. Observations:                 200   AIC:                            -186.4\n",
      "Df Residuals:                     196   BIC:                            -173.2\n",
      "Df Model:                           3                                         \n",
      "Covariance Type:            nonrobust                                         \n",
      "==================================================================================\n",
      "                     coef    std err          t      P>|t|      [0.025      0.975]\n",
      "----------------------------------------------------------------------------------\n",
      "const             17.7956      0.962     18.491      0.000      15.898      19.694\n",
      "release_year      -0.0050      0.000    -10.221      0.000      -0.006      -0.004\n",
      "votes_count     4.071e-07   2.17e-08     18.735      0.000    3.64e-07     4.5e-07\n",
      "runtime_(mins)     0.0005      0.000      1.604      0.110      -0.000       0.001\n",
      "==============================================================================\n",
      "Omnibus:                       19.164   Durbin-Watson:                   1.935\n",
      "Prob(Omnibus):                  0.000   Jarque-Bera (JB):               24.523\n",
      "Skew:                           0.643   Prob(JB):                     4.73e-06\n",
      "Kurtosis:                       4.135   Cond. No.                     8.06e+07\n",
      "==============================================================================\n",
      "\n",
      "Notes:\n",
      "[1] Standard Errors assume that the covariance matrix of the errors is correctly specified.\n",
      "[2] The condition number is large, 8.06e+07. This might indicate that there are\n",
      "strong multicollinearity or other numerical problems.\n"
     ]
    }
   ],
   "source": [
    "# Add constant to the model\n",
    "X2_train_const = sm.add_constant(X2_train)\n",
    "\n",
    "# Create the multiple regression model\n",
    "olsmod = sm.OLS(y2_train, X2_train_const)\n",
    "olsres = olsmod.fit()\n",
    "\n",
    "# Print full model output\n",
    "print(olsres.summary())"
   ]
  },
  {
   "cell_type": "markdown",
   "metadata": {},
   "source": [
    "### Plot histogram of residuals"
   ]
  },
  {
   "cell_type": "code",
   "execution_count": null,
   "metadata": {},
   "outputs": [
    {
     "data": {
      "image/png": "[encoded data removed]",
      "text/plain": [
       "<Figure size 800x400 with 1 Axes>"
      ]
     },
     "metadata": {},
     "output_type": "display_data"
    }
   ],
   "source": [
    "# Plot histogram of residuals\n",
    "fig = plt.figure( figsize=(8,4))\n",
    "n, bins, patches = plt.hist(x=olsres.resid, \n",
    "                            bins=25, \n",
    "                            color='blue',\n",
    "                            alpha=0.5\n",
    "                   )\n",
    "\n",
    "# Set labels\n",
    "plt.xlabel('residuals', fontsize=10, labelpad=10)\n",
    "plt.ylabel('frequency', fontsize=10, labelpad=10)\n",
    "plt.title('Histogram of model residuals', fontsize=12, pad=10)\n",
    "\n",
    "plt.show()"
   ]
  },
  {
   "cell_type": "markdown",
   "metadata": {},
   "source": [
    "### Compare the observed ratings with the predicted ratings"
   ]
  },
  {
   "cell_type": "code",
   "execution_count": 138,
   "metadata": {},
   "outputs": [
    {
     "name": "stdout",
     "output_type": "stream",
     "text": [
      "Observed rating: 8.1, Predicted rating: 8.2\n",
      "Observed rating: 9.0, Predicted rating: 8.7\n",
      "Observed rating: 8.2, Predicted rating: 8.1\n",
      "Observed rating: 8.4, Predicted rating: 8.3\n",
      "Observed rating: 8.2, Predicted rating: 8.2\n",
      "Observed rating: 8.1, Predicted rating: 8.2\n",
      "Observed rating: 8.1, Predicted rating: 8.3\n",
      "Observed rating: 8.1, Predicted rating: 8.2\n",
      "Observed rating: 8.8, Predicted rating: 8.9\n",
      "Observed rating: 8.2, Predicted rating: 8.2\n"
     ]
    }
   ],
   "source": [
    "# Add constant to X2_test\n",
    "X2_test_const = sm.add_constant(X2_test)\n",
    "predicted_new = olsres.predict(X2_test_const)\n",
    "\n",
    "# Compare the observed prices with the predicted prices\n",
    "for i in range(0,10):\n",
    "    print(f'Observed rating: {y_test.iloc[i]:.1f}, Predicted rating: {predicted_new.iloc[i]:.1f}')"
   ]
  },
  {
   "cell_type": "markdown",
   "metadata": {},
   "source": [
    "---\n",
    "---"
   ]
  },
  {
   "cell_type": "markdown",
   "metadata": {},
   "source": [
    "**Imports**"
   ]
  },
  {
   "cell_type": "code",
   "execution_count": 1,
   "metadata": {},
   "outputs": [],
   "source": [
    "# Libraries\n",
    "import numpy as np\n",
    "import pandas as pd\n",
    "import scipy.stats as stats\n",
    "import matplotlib.pyplot as plt\n",
    "from sklearn.cluster import KMeans\n",
    "from sklearn.preprocessing import StandardScaler\n",
    "\n",
    "# Ignore warnings\n",
    "import warnings\n",
    "warnings.filterwarnings('ignore')\n",
    "\n",
    "# Entfernen von Dollarzeichen und Kommas aus der Spalte 'worldwide_lifetime_gross' und Umwandlung in numerischen Typ\n",
    "df = pd.read_csv('IMDB_Merged_Movies.csv', sep=';', encoding='utf-8')\n",
    "df['worldwide_lifetime_gross'] = df['worldwide_lifetime_gross'].replace('[\\$,]', '', regex=True).astype(float)"
   ]
  },
  {
   "cell_type": "markdown",
   "metadata": {},
   "source": [
    "## Correlation Analysis"
   ]
  },
  {
   "cell_type": "code",
   "execution_count": 2,
   "metadata": {},
   "outputs": [
    {
     "name": "stdout",
     "output_type": "stream",
     "text": [
      "Pearsons correlation coefficient (r): 0.167918\n",
      "p-value: 0.1365\n"
     ]
    }
   ],
   "source": [
    "# Perform Pearson correlation analysis\n",
    "res = stats.pearsonr(df['movie_rating'], df['worldwide_lifetime_gross'])\n",
    "print(f'Pearsons correlation coefficient (r): {res[0]:4f}')\n",
    "print(f'p-value: {res[1]:.4f}')"
   ]
  },
  {
   "cell_type": "markdown",
   "metadata": {},
   "source": [
    "### Interpretation of the correlation coefficient\n",
    "Because the p-value (0.1365) is greater than 0.05 we cannot reject the null hypothesis. That means there is no statistically significant (5% significance-level) correlation between the variables 'movie_rating' and 'worldwide_lifetime_gross'."
   ]
  },
  {
   "cell_type": "markdown",
   "metadata": {},
   "source": [
    "## k-means clustering"
   ]
  },
  {
   "cell_type": "code",
   "execution_count": 3,
   "metadata": {
    "vscode": {
     "languageId": "ruby"
    }
   },
   "outputs": [
    {
     "data": {
      "image/png": "[encoded data removed]",
      "text/plain": [
       "<Figure size 640x480 with 1 Axes>"
      ]
     },
     "metadata": {},
     "output_type": "display_data"
    }
   ],
   "source": [
    "# Create df with two columns\n",
    "xData = 'votes_count'\n",
    "yData = 'worldwide_lifetime_gross'\n",
    "XY_df = pd.DataFrame({xData: df[xData], yData: df[yData]})\n",
    "\n",
    "# Normalize the data\n",
    "XY_df = StandardScaler().fit_transform(XY_df)\n",
    "\n",
    "# Plot the data\n",
    "plt.scatter(XY_df[:, 0], XY_df[:, 1])\n",
    "plt.xlabel(xData)\n",
    "plt.ylabel(yData)\n",
    "plt.title('Votes Count vs Worldwide Lifetime Gross')\n",
    "plt.show()"
   ]
  },
  {
   "cell_type": "code",
   "execution_count": 4,
   "metadata": {},
   "outputs": [
    {
     "data": {
      "image/png": "[encoded data removed]",
      "text/plain": [
       "<Figure size 500x300 with 1 Axes>"
      ]
     },
     "metadata": {},
     "output_type": "display_data"
    }
   ],
   "source": [
    "# Sum of squared distances of samples to their closest cluster center\n",
    "distortions = []\n",
    "\n",
    "# Range of k's\n",
    "K = range(1,16,1)\n",
    "\n",
    "# Loop to find the optimal k\n",
    "for k in K:\n",
    "    kmeanModel = KMeans(n_clusters=k)\n",
    "    kmeanModel.fit(XY_df)\n",
    "    distortions.append(kmeanModel.inertia_)\n",
    "    \n",
    "# Elbow plot\n",
    "plt.figure(figsize=(5,3))\n",
    "plt.plot(K, distortions, 'bx-')\n",
    "plt.xlabel('k')\n",
    "plt.ylabel('Distortion')\n",
    "plt.title('The Elbow Method showing the optimal k')\n",
    "\n",
    "plt.show()"
   ]
  },
  {
   "cell_type": "markdown",
   "metadata": {},
   "source": [
    "### Perform k-means clustering"
   ]
  },
  {
   "cell_type": "code",
   "execution_count": 5,
   "metadata": {},
   "outputs": [
    {
     "data": {
      "image/png": "[encoded data removed]",
      "text/plain": [
       "<Figure size 600x400 with 1 Axes>"
      ]
     },
     "metadata": {},
     "output_type": "display_data"
    }
   ],
   "source": [
    "# Number of clusters\n",
    "k = 5\n",
    "\n",
    "# Perform k-means clustering\n",
    "kmeans = KMeans(n_clusters=k, random_state=42).fit(XY_df)\n",
    "\n",
    "# Predict the values\n",
    "y2 = kmeans.predict(XY_df)\n",
    "\n",
    "# Plot the clusters\n",
    "plt.figure(figsize=(6,4))\n",
    "plt.scatter(XY_df[:, 0], XY_df[:, 1], c=y2, s=10)\n",
    "plt.xlabel('votes count')\n",
    "plt.ylabel('worldwide lifetime gross')\n",
    "plt.title('K-means Clustering')\n",
    "plt.show()"
   ]
  },
  {
   "cell_type": "markdown",
   "metadata": {},
   "source": [
    "### Jupyter notebook --footer info--"
   ]
  },
  {
   "cell_type": "code",
   "execution_count": 139,
   "metadata": {},
   "outputs": [
    {
     "name": "stdout",
     "output_type": "stream",
     "text": [
      "-----------------------------------\n",
      "POSIX\n",
      "Linux | 6.5.0-1025-azure\n",
      "Datetime: 2025-01-09 08:57:04\n",
      "Python Version: 3.11.10\n",
      "-----------------------------------\n"
     ]
    }
   ],
   "source": [
    "import os\n",
    "import platform\n",
    "import socket\n",
    "from platform import python_version\n",
    "from datetime import datetime\n",
    "\n",
    "print('-----------------------------------')\n",
    "print(os.name.upper())\n",
    "print(platform.system(), '|', platform.release())\n",
    "print('Datetime:', datetime.now().strftime(\"%Y-%m-%d %H:%M:%S\"))\n",
    "print('Python Version:', python_version())\n",
    "print('-----------------------------------')"
   ]
  },
  {
   "cell_type": "markdown",
   "metadata": {},
   "source": [
    "###"
   ]
  }
 ],
 "metadata": {
  "kernelspec": {
   "display_name": "Python 3",
   "language": "python",
   "name": "python3"
  },
  "language_info": {
   "codemirror_mode": {
    "name": "ipython",
    "version": 3
   },
   "file_extension": ".py",
   "mimetype": "text/x-python",
   "name": "python",
   "nbconvert_exporter": "python",
   "pygments_lexer": "ipython3",
   "version": "3.11.11"
  }
 },
 "nbformat": 4,
 "nbformat_minor": 2
}
