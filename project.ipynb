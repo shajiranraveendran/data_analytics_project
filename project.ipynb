{
 "cells": [
  {
   "cell_type": "markdown",
   "metadata": {},
   "source": [
    "**LIBRARIES AND SETTINGS**"
   ]
  },
  {
   "cell_type": "code",
   "execution_count": 385,
   "metadata": {},
   "outputs": [
    {
     "name": "stdout",
     "output_type": "stream",
     "text": [
      "/workspaces/data_analytics_project\n"
     ]
    }
   ],
   "source": [
    "# LIBRARIES\n",
    "import os\n",
    "import re\n",
    "import time\n",
    "import requests\n",
    "import json\n",
    "import folium\n",
    "import fnmatch\n",
    "import numpy as np\n",
    "import pandas as pd\n",
    "from pandas import json_normalize\n",
    "import matplotlib.pyplot as plt\n",
    "import numpy as np\n",
    "import seaborn as sns\n",
    "\n",
    "# IGNORE WARNINGS\n",
    "import warnings\n",
    "warnings.filterwarnings(\"ignore\")\n",
    "\n",
    "# GET CURRENT WORKING DIRECTORY\n",
    "print(os.getcwd())\n"
   ]
  },
  {
   "cell_type": "markdown",
   "metadata": {},
   "source": [
    "---"
   ]
  },
  {
   "cell_type": "markdown",
   "metadata": {},
   "source": [
    "**DATA IMPORT**"
   ]
  },
  {
   "cell_type": "code",
   "execution_count": 386,
   "metadata": {},
   "outputs": [
    {
     "name": "stdout",
     "output_type": "stream",
     "text": [
      "IMDB Top 250 Movies.csv\n",
      "top_250_movies_prepared.csv\n"
     ]
    },
    {
     "data": {
      "text/html": [
       "<div>\n",
       "<style scoped>\n",
       "    .dataframe tbody tr th:only-of-type {\n",
       "        vertical-align: middle;\n",
       "    }\n",
       "\n",
       "    .dataframe tbody tr th {\n",
       "        vertical-align: top;\n",
       "    }\n",
       "\n",
       "    .dataframe thead th {\n",
       "        text-align: right;\n",
       "    }\n",
       "</style>\n",
       "<table border=\"1\" class=\"dataframe\">\n",
       "  <thead>\n",
       "    <tr style=\"text-align: right;\">\n",
       "      <th></th>\n",
       "      <th>title</th>\n",
       "      <th>genres</th>\n",
       "      <th>release_year</th>\n",
       "      <th>runtime_(mins)</th>\n",
       "      <th>age_rating</th>\n",
       "      <th>director</th>\n",
       "      <th>movie_rating</th>\n",
       "      <th>votes_count</th>\n",
       "    </tr>\n",
       "  </thead>\n",
       "  <tbody>\n",
       "    <tr>\n",
       "      <th>0</th>\n",
       "      <td>The Shawshank Redemption</td>\n",
       "      <td>Drama</td>\n",
       "      <td>1994</td>\n",
       "      <td>142</td>\n",
       "      <td>12</td>\n",
       "      <td>Frank Darabont</td>\n",
       "      <td>9,3</td>\n",
       "      <td>2969404</td>\n",
       "    </tr>\n",
       "    <tr>\n",
       "      <th>1</th>\n",
       "      <td>The Godfather</td>\n",
       "      <td>Crime, Drama</td>\n",
       "      <td>1972</td>\n",
       "      <td>175</td>\n",
       "      <td>16</td>\n",
       "      <td>Francis Ford Coppola</td>\n",
       "      <td>9,2</td>\n",
       "      <td>2070969</td>\n",
       "    </tr>\n",
       "    <tr>\n",
       "      <th>2</th>\n",
       "      <td>The Godfather Part II</td>\n",
       "      <td>Crime, Drama</td>\n",
       "      <td>1974</td>\n",
       "      <td>202</td>\n",
       "      <td>16</td>\n",
       "      <td>Francis Ford Coppola</td>\n",
       "      <td>9,0</td>\n",
       "      <td>1398083</td>\n",
       "    </tr>\n",
       "    <tr>\n",
       "      <th>3</th>\n",
       "      <td>The Dark Knight</td>\n",
       "      <td>Action, Crime, Drama, Thriller</td>\n",
       "      <td>2008</td>\n",
       "      <td>152</td>\n",
       "      <td>16</td>\n",
       "      <td>Christopher Nolan</td>\n",
       "      <td>9,0</td>\n",
       "      <td>2950798</td>\n",
       "    </tr>\n",
       "    <tr>\n",
       "      <th>4</th>\n",
       "      <td>12 Angry Men</td>\n",
       "      <td>Crime, Drama</td>\n",
       "      <td>1957</td>\n",
       "      <td>96</td>\n",
       "      <td>12</td>\n",
       "      <td>Sidney Lumet</td>\n",
       "      <td>9,0</td>\n",
       "      <td>895706</td>\n",
       "    </tr>\n",
       "  </tbody>\n",
       "</table>\n",
       "</div>"
      ],
      "text/plain": [
       "                      title                          genres  release_year  \\\n",
       "0  The Shawshank Redemption                           Drama          1994   \n",
       "1             The Godfather                    Crime, Drama          1972   \n",
       "2     The Godfather Part II                    Crime, Drama          1974   \n",
       "3           The Dark Knight  Action, Crime, Drama, Thriller          2008   \n",
       "4              12 Angry Men                    Crime, Drama          1957   \n",
       "\n",
       "   runtime_(mins) age_rating              director movie_rating  votes_count  \n",
       "0             142         12        Frank Darabont          9,3      2969404  \n",
       "1             175         16  Francis Ford Coppola          9,2      2070969  \n",
       "2             202         16  Francis Ford Coppola          9,0      1398083  \n",
       "3             152         16     Christopher Nolan          9,0      2950798  \n",
       "4              96         12          Sidney Lumet          9,0       895706  "
      ]
     },
     "execution_count": 386,
     "metadata": {},
     "output_type": "execute_result"
    }
   ],
   "source": [
    "# SHOW .CSV - FILES IN THE DIRECTORY\n",
    "flist = fnmatch.filter(os.listdir('.'), '*.csv')\n",
    "for i in flist:\n",
    "    print(i)\n",
    "\n",
    "# READ THE DATA TO A PANDAS DATA FRAME\n",
    "df = pd.read_csv('IMDB Top 250 Movies.csv', sep=';', encoding='utf-8')\n",
    "df.head()"
   ]
  },
  {
   "cell_type": "markdown",
   "metadata": {},
   "source": [
    "**COUNT / DATA TYPE**"
   ]
  },
  {
   "cell_type": "code",
   "execution_count": 387,
   "metadata": {},
   "outputs": [
    {
     "name": "stdout",
     "output_type": "stream",
     "text": [
      "Dimension: (250, 8)\n",
      "Number of rows: 250\n",
      "Number of columns: 8\n"
     ]
    },
    {
     "data": {
      "text/plain": [
       "title             object\n",
       "genres            object\n",
       "release_year       int64\n",
       "runtime_(mins)     int64\n",
       "age_rating        object\n",
       "director          object\n",
       "movie_rating      object\n",
       "votes_count        int64\n",
       "dtype: object"
      ]
     },
     "execution_count": 387,
     "metadata": {},
     "output_type": "execute_result"
    }
   ],
   "source": [
    "# DIMENSION (ROWS, COLUMNS)\n",
    "print('Dimension:', df.shape)\n",
    "print('Number of rows:', df.shape[0])\n",
    "print('Number of columns:', df.shape[1])\n",
    "\n",
    "# GET DATA TYPES\n",
    "df.dtypes"
   ]
  },
  {
   "cell_type": "markdown",
   "metadata": {},
   "source": [
    "**COUNT / IDENTIFY MISSING VALUES (IF ANY)**"
   ]
  },
  {
   "cell_type": "code",
   "execution_count": 388,
   "metadata": {},
   "outputs": [
    {
     "name": "stdout",
     "output_type": "stream",
     "text": [
      "title             0\n",
      "genres            0\n",
      "release_year      0\n",
      "runtime_(mins)    0\n",
      "age_rating        0\n",
      "director          0\n",
      "movie_rating      0\n",
      "votes_count       0\n",
      "dtype: int64\n"
     ]
    },
    {
     "data": {
      "text/html": [
       "<div>\n",
       "<style scoped>\n",
       "    .dataframe tbody tr th:only-of-type {\n",
       "        vertical-align: middle;\n",
       "    }\n",
       "\n",
       "    .dataframe tbody tr th {\n",
       "        vertical-align: top;\n",
       "    }\n",
       "\n",
       "    .dataframe thead th {\n",
       "        text-align: right;\n",
       "    }\n",
       "</style>\n",
       "<table border=\"1\" class=\"dataframe\">\n",
       "  <thead>\n",
       "    <tr style=\"text-align: right;\">\n",
       "      <th></th>\n",
       "      <th>title</th>\n",
       "      <th>genres</th>\n",
       "      <th>release_year</th>\n",
       "      <th>runtime_(mins)</th>\n",
       "      <th>age_rating</th>\n",
       "      <th>director</th>\n",
       "      <th>movie_rating</th>\n",
       "      <th>votes_count</th>\n",
       "    </tr>\n",
       "  </thead>\n",
       "  <tbody>\n",
       "  </tbody>\n",
       "</table>\n",
       "</div>"
      ],
      "text/plain": [
       "Empty DataFrame\n",
       "Columns: [title, genres, release_year, runtime_(mins), age_rating, director, movie_rating, votes_count]\n",
       "Index: []"
      ]
     },
     "execution_count": 388,
     "metadata": {},
     "output_type": "execute_result"
    }
   ],
   "source": [
    "# COUNT MISSING VALUES\n",
    "print(pd.isna(df).sum())\n",
    "\n",
    "# IDENTIFY ROWS WITH MISSING VALUES\n",
    "df[df.isna().any(axis=1)].head()"
   ]
  },
  {
   "cell_type": "markdown",
   "metadata": {},
   "source": [
    "**COUNT / IDENTIFY DUPLICATED VALUES (IF ANY)**"
   ]
  },
  {
   "cell_type": "code",
   "execution_count": 389,
   "metadata": {},
   "outputs": [
    {
     "name": "stdout",
     "output_type": "stream",
     "text": [
      "0\n"
     ]
    },
    {
     "data": {
      "text/html": [
       "<div>\n",
       "<style scoped>\n",
       "    .dataframe tbody tr th:only-of-type {\n",
       "        vertical-align: middle;\n",
       "    }\n",
       "\n",
       "    .dataframe tbody tr th {\n",
       "        vertical-align: top;\n",
       "    }\n",
       "\n",
       "    .dataframe thead th {\n",
       "        text-align: right;\n",
       "    }\n",
       "</style>\n",
       "<table border=\"1\" class=\"dataframe\">\n",
       "  <thead>\n",
       "    <tr style=\"text-align: right;\">\n",
       "      <th></th>\n",
       "      <th>title</th>\n",
       "      <th>genres</th>\n",
       "      <th>release_year</th>\n",
       "      <th>runtime_(mins)</th>\n",
       "      <th>age_rating</th>\n",
       "      <th>director</th>\n",
       "      <th>movie_rating</th>\n",
       "      <th>votes_count</th>\n",
       "    </tr>\n",
       "  </thead>\n",
       "  <tbody>\n",
       "  </tbody>\n",
       "</table>\n",
       "</div>"
      ],
      "text/plain": [
       "Empty DataFrame\n",
       "Columns: [title, genres, release_year, runtime_(mins), age_rating, director, movie_rating, votes_count]\n",
       "Index: []"
      ]
     },
     "execution_count": 389,
     "metadata": {},
     "output_type": "execute_result"
    }
   ],
   "source": [
    "# COUNT DUPLICATED VALUES\n",
    "print(df.duplicated().sum())\n",
    "\n",
    "# IDENTIFY ROWS WITH DUPLICATED VALUES\n",
    "df[df[['title', 'genres', 'release_year']].duplicated()]"
   ]
  },
  {
   "cell_type": "markdown",
   "metadata": {},
   "source": [
    "**DROP ROWS WITH MISSING VALUES**"
   ]
  },
  {
   "cell_type": "code",
   "execution_count": 390,
   "metadata": {},
   "outputs": [
    {
     "name": "stdout",
     "output_type": "stream",
     "text": [
      "(250, 8)\n",
      "(250, 8)\n"
     ]
    }
   ],
   "source": [
    "# DROP MISSING VALUES\n",
    "print(df.shape)\n",
    "df = df.dropna()\n",
    "\n",
    "# DROP DUPLICATED VALUES\n",
    "print(df.shape)"
   ]
  },
  {
   "cell_type": "markdown",
   "metadata": {},
   "source": [
    "**CREATE NEW VARIABLE (CATEGORIAL)**"
   ]
  },
  {
   "cell_type": "code",
   "execution_count": 391,
   "metadata": {},
   "outputs": [
    {
     "data": {
      "text/html": [
       "<div>\n",
       "<style scoped>\n",
       "    .dataframe tbody tr th:only-of-type {\n",
       "        vertical-align: middle;\n",
       "    }\n",
       "\n",
       "    .dataframe tbody tr th {\n",
       "        vertical-align: top;\n",
       "    }\n",
       "\n",
       "    .dataframe thead th {\n",
       "        text-align: right;\n",
       "    }\n",
       "</style>\n",
       "<table border=\"1\" class=\"dataframe\">\n",
       "  <thead>\n",
       "    <tr style=\"text-align: right;\">\n",
       "      <th></th>\n",
       "      <th>release_year</th>\n",
       "      <th>year_cat1</th>\n",
       "      <th>year_cat2</th>\n",
       "    </tr>\n",
       "  </thead>\n",
       "  <tbody>\n",
       "    <tr>\n",
       "      <th>0</th>\n",
       "      <td>1994</td>\n",
       "      <td>1950 - 1999</td>\n",
       "      <td>1990s</td>\n",
       "    </tr>\n",
       "    <tr>\n",
       "      <th>1</th>\n",
       "      <td>1972</td>\n",
       "      <td>1950 - 1999</td>\n",
       "      <td>1970s</td>\n",
       "    </tr>\n",
       "    <tr>\n",
       "      <th>2</th>\n",
       "      <td>1974</td>\n",
       "      <td>1950 - 1999</td>\n",
       "      <td>1970s</td>\n",
       "    </tr>\n",
       "    <tr>\n",
       "      <th>3</th>\n",
       "      <td>2008</td>\n",
       "      <td>2000 - 2050</td>\n",
       "      <td>2000s</td>\n",
       "    </tr>\n",
       "    <tr>\n",
       "      <th>4</th>\n",
       "      <td>1957</td>\n",
       "      <td>1950 - 1999</td>\n",
       "      <td>1950s</td>\n",
       "    </tr>\n",
       "    <tr>\n",
       "      <th>5</th>\n",
       "      <td>1993</td>\n",
       "      <td>1950 - 1999</td>\n",
       "      <td>1990s</td>\n",
       "    </tr>\n",
       "    <tr>\n",
       "      <th>6</th>\n",
       "      <td>2003</td>\n",
       "      <td>2000 - 2050</td>\n",
       "      <td>2000s</td>\n",
       "    </tr>\n",
       "    <tr>\n",
       "      <th>7</th>\n",
       "      <td>1994</td>\n",
       "      <td>1950 - 1999</td>\n",
       "      <td>1990s</td>\n",
       "    </tr>\n",
       "    <tr>\n",
       "      <th>8</th>\n",
       "      <td>2001</td>\n",
       "      <td>2000 - 2050</td>\n",
       "      <td>2000s</td>\n",
       "    </tr>\n",
       "    <tr>\n",
       "      <th>9</th>\n",
       "      <td>1999</td>\n",
       "      <td>1950 - 1999</td>\n",
       "      <td>1990s</td>\n",
       "    </tr>\n",
       "  </tbody>\n",
       "</table>\n",
       "</div>"
      ],
      "text/plain": [
       "   release_year    year_cat1 year_cat2\n",
       "0          1994  1950 - 1999     1990s\n",
       "1          1972  1950 - 1999     1970s\n",
       "2          1974  1950 - 1999     1970s\n",
       "3          2008  2000 - 2050     2000s\n",
       "4          1957  1950 - 1999     1950s\n",
       "5          1993  1950 - 1999     1990s\n",
       "6          2003  2000 - 2050     2000s\n",
       "7          1994  1950 - 1999     1990s\n",
       "8          2001  2000 - 2050     2000s\n",
       "9          1999  1950 - 1999     1990s"
      ]
     },
     "execution_count": 391,
     "metadata": {},
     "output_type": "execute_result"
    }
   ],
   "source": [
    "# DEFINE LABLES\n",
    "labels = ['1900 - 1949', '1950 - 1999', '2000 - 2050']\n",
    "labels_price = ['1900s', '1910s', '1920s', '1930s', '1940s', '1950s', '1960s', '1970s', '1980s', '1990s', '2000s', '2010s']\n",
    "\n",
    "# CREATE CATEGORIES \n",
    "df[\"year_cat1\"] = pd.cut(df['release_year'], bins=[1900, 1950, 2000, 2050], labels=labels)\n",
    "df[\"year_cat2\"] = pd.cut(df['release_year'], bins=[1900, 1910, 1920, 1930, 1940, 1950, 1960, 1970, 1980, 1990, 2000, 2010, 2020],labels=labels_price)\n",
    "\n",
    "# SHOW CATEGORIES\n",
    "df[['release_year', 'year_cat1', 'year_cat2']].head(10)"
   ]
  },
  {
   "cell_type": "markdown",
   "metadata": {},
   "source": [
    "<U>**EXPLORATORY DATA ANALYSIS (EDA): RICH NON-GRAPHICAL**</U>"
   ]
  },
  {
   "cell_type": "markdown",
   "metadata": {},
   "source": [
    "***SUMMARY STATISTICS OF NUMERIC VARIABLES***"
   ]
  },
  {
   "cell_type": "code",
   "execution_count": 392,
   "metadata": {},
   "outputs": [
    {
     "data": {
      "text/html": [
       "<div>\n",
       "<style scoped>\n",
       "    .dataframe tbody tr th:only-of-type {\n",
       "        vertical-align: middle;\n",
       "    }\n",
       "\n",
       "    .dataframe tbody tr th {\n",
       "        vertical-align: top;\n",
       "    }\n",
       "\n",
       "    .dataframe thead th {\n",
       "        text-align: right;\n",
       "    }\n",
       "</style>\n",
       "<table border=\"1\" class=\"dataframe\">\n",
       "  <thead>\n",
       "    <tr style=\"text-align: right;\">\n",
       "      <th></th>\n",
       "      <th>release_year</th>\n",
       "      <th>runtime_(mins)</th>\n",
       "      <th>votes_count</th>\n",
       "    </tr>\n",
       "  </thead>\n",
       "  <tbody>\n",
       "    <tr>\n",
       "      <th>count</th>\n",
       "      <td>250.00</td>\n",
       "      <td>250.00</td>\n",
       "      <td>250.00</td>\n",
       "    </tr>\n",
       "    <tr>\n",
       "      <th>mean</th>\n",
       "      <td>1985.01</td>\n",
       "      <td>128.87</td>\n",
       "      <td>709757.84</td>\n",
       "    </tr>\n",
       "    <tr>\n",
       "      <th>std</th>\n",
       "      <td>24.77</td>\n",
       "      <td>30.91</td>\n",
       "      <td>586931.42</td>\n",
       "    </tr>\n",
       "    <tr>\n",
       "      <th>min</th>\n",
       "      <td>1921.00</td>\n",
       "      <td>45.00</td>\n",
       "      <td>33534.00</td>\n",
       "    </tr>\n",
       "    <tr>\n",
       "      <th>25%</th>\n",
       "      <td>1967.25</td>\n",
       "      <td>107.00</td>\n",
       "      <td>236900.25</td>\n",
       "    </tr>\n",
       "    <tr>\n",
       "      <th>50%</th>\n",
       "      <td>1992.00</td>\n",
       "      <td>126.00</td>\n",
       "      <td>588805.00</td>\n",
       "    </tr>\n",
       "    <tr>\n",
       "      <th>75%</th>\n",
       "      <td>2004.75</td>\n",
       "      <td>143.75</td>\n",
       "      <td>1088985.25</td>\n",
       "    </tr>\n",
       "    <tr>\n",
       "      <th>max</th>\n",
       "      <td>2019.00</td>\n",
       "      <td>238.00</td>\n",
       "      <td>2969404.00</td>\n",
       "    </tr>\n",
       "  </tbody>\n",
       "</table>\n",
       "</div>"
      ],
      "text/plain": [
       "       release_year  runtime_(mins)  votes_count\n",
       "count        250.00          250.00       250.00\n",
       "mean        1985.01          128.87    709757.84\n",
       "std           24.77           30.91    586931.42\n",
       "min         1921.00           45.00     33534.00\n",
       "25%         1967.25          107.00    236900.25\n",
       "50%         1992.00          126.00    588805.00\n",
       "75%         2004.75          143.75   1088985.25\n",
       "max         2019.00          238.00   2969404.00"
      ]
     },
     "execution_count": 392,
     "metadata": {},
     "output_type": "execute_result"
    }
   ],
   "source": [
    "df.describe().round(2)"
   ]
  },
  {
   "cell_type": "markdown",
   "metadata": {},
   "source": [
    "***QUANTILES VALUES***"
   ]
  },
  {
   "cell_type": "code",
   "execution_count": 393,
   "metadata": {},
   "outputs": [
    {
     "data": {
      "text/html": [
       "<div>\n",
       "<style scoped>\n",
       "    .dataframe tbody tr th:only-of-type {\n",
       "        vertical-align: middle;\n",
       "    }\n",
       "\n",
       "    .dataframe tbody tr th {\n",
       "        vertical-align: top;\n",
       "    }\n",
       "\n",
       "    .dataframe thead th {\n",
       "        text-align: right;\n",
       "    }\n",
       "</style>\n",
       "<table border=\"1\" class=\"dataframe\">\n",
       "  <thead>\n",
       "    <tr style=\"text-align: right;\">\n",
       "      <th></th>\n",
       "      <th>release_year</th>\n",
       "      <th>runtime_(mins)</th>\n",
       "    </tr>\n",
       "  </thead>\n",
       "  <tbody>\n",
       "    <tr>\n",
       "      <th>0.05</th>\n",
       "      <td>1940.00</td>\n",
       "      <td>88.00</td>\n",
       "    </tr>\n",
       "    <tr>\n",
       "      <th>0.10</th>\n",
       "      <td>1948.00</td>\n",
       "      <td>93.90</td>\n",
       "    </tr>\n",
       "    <tr>\n",
       "      <th>0.25</th>\n",
       "      <td>1967.25</td>\n",
       "      <td>107.00</td>\n",
       "    </tr>\n",
       "    <tr>\n",
       "      <th>0.50</th>\n",
       "      <td>1992.00</td>\n",
       "      <td>126.00</td>\n",
       "    </tr>\n",
       "    <tr>\n",
       "      <th>0.75</th>\n",
       "      <td>2004.75</td>\n",
       "      <td>143.75</td>\n",
       "    </tr>\n",
       "    <tr>\n",
       "      <th>0.90</th>\n",
       "      <td>2014.00</td>\n",
       "      <td>175.20</td>\n",
       "    </tr>\n",
       "    <tr>\n",
       "      <th>0.95</th>\n",
       "      <td>2016.55</td>\n",
       "      <td>184.10</td>\n",
       "    </tr>\n",
       "  </tbody>\n",
       "</table>\n",
       "</div>"
      ],
      "text/plain": [
       "      release_year  runtime_(mins)\n",
       "0.05       1940.00           88.00\n",
       "0.10       1948.00           93.90\n",
       "0.25       1967.25          107.00\n",
       "0.50       1992.00          126.00\n",
       "0.75       2004.75          143.75\n",
       "0.90       2014.00          175.20\n",
       "0.95       2016.55          184.10"
      ]
     },
     "execution_count": 393,
     "metadata": {},
     "output_type": "execute_result"
    }
   ],
   "source": [
    "df[['release_year', 'runtime_(mins)']].quantile(q=[0.05, 0.10, 0.25, 0.50, 0.75, 0.90, 0.95]).round(2)"
   ]
  },
  {
   "cell_type": "markdown",
   "metadata": {},
   "source": [
    "***DIRECTORS WITH THE MOST MOVIES***"
   ]
  },
  {
   "cell_type": "code",
   "execution_count": 394,
   "metadata": {},
   "outputs": [
    {
     "data": {
      "text/plain": [
       "director\n",
       "Martin Scorsese      8\n",
       "Alfred Hitchcock     7\n",
       "Stanley Kubrick      7\n",
       "Christopher Nolan    7\n",
       "Steven Spielberg     7\n",
       "Billy Wilder         6\n",
       "Quentin Tarantino    6\n",
       "Charles Chaplin      5\n",
       "Ridley Scott         4\n",
       "Roman Polanski       3\n",
       "Name: count, dtype: int64"
      ]
     },
     "execution_count": 394,
     "metadata": {},
     "output_type": "execute_result"
    }
   ],
   "source": [
    "df['director'].value_counts().head(10) "
   ]
  },
  {
   "cell_type": "markdown",
   "metadata": {},
   "source": [
    "<U>**EXPLORATORY DATA ANALYSIS (EDA): RICH GRAPHICAL**</U>"
   ]
  },
  {
   "cell_type": "markdown",
   "metadata": {},
   "source": [
    "***HISTOGRAM (DISTRIBUTION OF MOVIE RELEASES PER DIRECTOR)***"
   ]
  },
  {
   "cell_type": "code",
   "execution_count": 395,
   "metadata": {},
   "outputs": [
    {
     "data": {
      "image/png": "[encoded data removed]",
      "text/plain": [
       "<Figure size 700x400 with 1 Axes>"
      ]
     },
     "metadata": {},
     "output_type": "display_data"
    }
   ],
   "source": [
    "\n",
    "# PLOT HISTOGRAM\n",
    "fig = plt.figure( figsize=(7,4))\n",
    "\n",
    "plt.xticks(fontsize=14, rotation=0)\n",
    "plt.yticks(fontsize=14, rotation=0)\n",
    "\n",
    "n, bins, patches = plt.hist(x=df['director'].value_counts(), \n",
    "                            bins=25, \n",
    "                            color='#026c8e',\n",
    "                            alpha=0.5, \n",
    "                            rwidth=0.95\n",
    "                   )\n",
    "plt.grid(True)\n",
    "plt.ticklabel_format(style='plain')\n",
    "plt.grid(axis='y', alpha=0.75)\n",
    "\n",
    "# SET LABELS\n",
    "plt.title('DISTRIBUTION OF MOVIE RELEASES PER DIRECTOR', fontsize=12, pad=10)\n",
    "plt.xlabel('NUMBER OF MOVIE RELEASES', fontsize=10, labelpad=10)\n",
    "plt.ylabel('NUMBER OF DIRECTOR', fontsize=10, labelpad=10)\n",
    "\n",
    "# SET FONT SIZE OF LABELS\n",
    "plt.xticks(fontsize = 10)\n",
    "plt.yticks(fontsize = 10)\n",
    "\n",
    "plt.show()"
   ]
  },
  {
   "cell_type": "markdown",
   "metadata": {},
   "source": [
    "***HISTOGRAM (DISTRIBUTION OF MOVIES BY RELEASE YEAR)***"
   ]
  },
  {
   "cell_type": "code",
   "execution_count": 396,
   "metadata": {},
   "outputs": [
    {
     "data": {
      "image/png": "[encoded data removed]",
      "text/plain": [
       "<Figure size 700x400 with 1 Axes>"
      ]
     },
     "metadata": {},
     "output_type": "display_data"
    }
   ],
   "source": [
    "\n",
    "# PLOT HISTOGRAM\n",
    "fig = plt.figure( figsize=(7,4))\n",
    "\n",
    "plt.xticks(fontsize=14, rotation=0)\n",
    "plt.yticks(fontsize=14, rotation=0)\n",
    "\n",
    "n, bins, patches = plt.hist(x=df['release_year'], \n",
    "                            bins=25, \n",
    "                            color='#026c8e',\n",
    "                            alpha=0.5, \n",
    "                            rwidth=0.95\n",
    "                   )\n",
    "plt.grid(True)\n",
    "plt.ticklabel_format(style='plain')\n",
    "plt.grid(axis='y', alpha=0.75)\n",
    "\n",
    "# SET LABELS\n",
    "plt.title('DISTRIBUTION OF MOVIES BY RELEASE YEAR', fontsize=12, pad=10)\n",
    "plt.xlabel('RELEASE YEAR', fontsize=10, labelpad=10)\n",
    "plt.ylabel('NUMBER OF MOVIES', fontsize=10, labelpad=10)\n",
    "\n",
    "# SET FONT SIZE OF LABELS\n",
    "plt.xticks(fontsize = 10)\n",
    "plt.yticks(fontsize = 10)\n",
    "\n",
    "plt.show()"
   ]
  },
  {
   "cell_type": "markdown",
   "metadata": {},
   "source": [
    "## Regression Model"
   ]
  },
  {
   "cell_type": "code",
   "execution_count": 397,
   "metadata": {},
   "outputs": [],
   "source": [
    "# Libraries\n",
    "import os\n",
    "import numpy as np\n",
    "import pandas as pd\n",
    "import scipy.stats as stats\n",
    "import statsmodels.api as sm\n",
    "import matplotlib.pyplot as plt\n",
    "from sklearn import linear_model\n",
    "from sklearn.model_selection import train_test_split\n",
    "\n",
    "# Ignore warnings\n",
    "import warnings\n",
    "warnings.filterwarnings('ignore')"
   ]
  },
  {
   "cell_type": "markdown",
   "metadata": {},
   "source": [
    "### Change datatype"
   ]
  },
  {
   "cell_type": "code",
   "execution_count": 398,
   "metadata": {},
   "outputs": [
    {
     "name": "stdout",
     "output_type": "stream",
     "text": [
      "float64\n"
     ]
    }
   ],
   "source": [
    "# Change datatype of movie_rating to float\n",
    "df['movie_rating'] = df['movie_rating'].str.replace(',', '.').astype(float)\n",
    "\n",
    "print(df['movie_rating'].dtype)"
   ]
  },
  {
   "cell_type": "markdown",
   "metadata": {},
   "source": [
    "### Train and test samples, train 80% test 20%"
   ]
  },
  {
   "cell_type": "code",
   "execution_count": 399,
   "metadata": {},
   "outputs": [
    {
     "name": "stdout",
     "output_type": "stream",
     "text": [
      "X_train:\n",
      "132    100314\n",
      "225    268151\n",
      "238    157842\n",
      "119    841663\n",
      "136    191460\n",
      "Name: votes_count, dtype: int64 \n",
      "\n",
      "y_train:\n",
      "132    8.1\n",
      "225    8.1\n",
      "238    7.9\n",
      "119    8.1\n",
      "136    8.1\n",
      "Name: movie_rating, dtype: float64\n"
     ]
    }
   ],
   "source": [
    "# Create train and test samples for runtime\n",
    "X_train, X_test, y_train, y_test = train_test_split(df['votes_count'], \n",
    "                                                    df['movie_rating'], \n",
    "                                                    test_size=0.20, \n",
    "                                                    random_state=42)\n",
    "# Show X_train\n",
    "print('X_train:')\n",
    "print(X_train.head(), '\\n')\n",
    "\n",
    "# Show y_train\n",
    "print('y_train:')\n",
    "print(y_train.head())\n",
    "\n",
    "# Modell soll versuchen vorherzusagen, wie gut ein Film bewertet wird, basierend auf der Anzahl der Bewertungen"
   ]
  },
  {
   "cell_type": "markdown",
   "metadata": {},
   "source": [
    "### Fit the simple linear regression model"
   ]
  },
  {
   "cell_type": "code",
   "execution_count": 400,
   "metadata": {},
   "outputs": [
    {
     "name": "stdout",
     "output_type": "stream",
     "text": [
      "Linear regression result:\n",
      "Intercept with y-axis (alpha):            8.01\n",
      "Slope of regression line (beta):          0.000\n",
      "p-value:                                  0.0000\n",
      "R-squared (coefficient of determination): 0.4633\n"
     ]
    }
   ],
   "source": [
    "# Fit the regression model for release year\n",
    "slope, intercept, r, p, std_err = stats.linregress(X_train, y_train)\n",
    "\n",
    "# Print results of the regression model\n",
    "print('Linear regression result:')\n",
    "print(f'Intercept with y-axis (alpha):            {intercept:.2f}')\n",
    "print(f'Slope of regression line (beta):          {slope:.3f}')\n",
    "print(f'p-value:                                  {p:.4f}')\n",
    "print(f'R-squared (coefficient of determination): {r**2:.4f}')"
   ]
  },
  {
   "cell_type": "markdown",
   "metadata": {},
   "source": [
    "### Plot regression line"
   ]
  },
  {
   "cell_type": "code",
   "execution_count": 401,
   "metadata": {},
   "outputs": [
    {
     "data": {
      "image/png": "[encoded data removed]",
      "text/plain": [
       "<Figure size 600x400 with 1 Axes>"
      ]
     },
     "metadata": {},
     "output_type": "display_data"
    }
   ],
   "source": [
    "# Function to calculate model predictions\n",
    "def myfunc(x):\n",
    "    return slope * x + intercept\n",
    "\n",
    "# Apply myfunc() to x, i.e. make predictions \n",
    "mymodel = pd.Series(map(myfunc, X_train))\n",
    "\n",
    "# Scatterplot with regression line\n",
    "plt.figure(figsize=(6,4))\n",
    "plt.scatter(X_train, y_train, s=10, color='green')\n",
    "plt.plot(X_train, mymodel, color='darkred', linestyle='dashed')\n",
    "plt.title('Simple Linear Regression')\n",
    "plt.xlabel('votes count')\n",
    "plt.ylabel('movie rating')\n",
    "\n",
    "plt.show()"
   ]
  },
  {
   "cell_type": "markdown",
   "metadata": {},
   "source": [
    "### Check model residuals"
   ]
  },
  {
   "cell_type": "code",
   "execution_count": 402,
   "metadata": {},
   "outputs": [
    {
     "name": "stdout",
     "output_type": "stream",
     "text": [
      "1st Predicted rating in dataset: 8.04\n",
      "1st Observed rating in dataset: 9.30\n",
      "1st Residual rating in dataset: 1.26\n"
     ]
    }
   ],
   "source": [
    "# Calculate model residuals for train data\n",
    "residuals = y_train - mymodel\n",
    "\n",
    "# Check the first residual value in our data set\n",
    "print(f'1st Predicted rating in dataset: {mymodel[0]:.2f}')\n",
    "print(f'1st Observed rating in dataset: {y_train[0]:.2f}')\n",
    "print(f'1st Residual rating in dataset: {residuals[0]:.2f}')"
   ]
  },
  {
   "cell_type": "markdown",
   "metadata": {},
   "source": [
    "### Plot histogram of residuals"
   ]
  },
  {
   "cell_type": "code",
   "execution_count": 403,
   "metadata": {},
   "outputs": [
    {
     "data": {
      "image/png": "[encoded data removed]",
      "text/plain": [
       "<Figure size 700x400 with 1 Axes>"
      ]
     },
     "metadata": {},
     "output_type": "display_data"
    }
   ],
   "source": [
    "# Plot histogram of residuals\n",
    "fig = plt.figure( figsize=(7,4))\n",
    "n, bins, patches = plt.hist(x=residuals, \n",
    "                            bins=25, \n",
    "                            color='blue',\n",
    "                            alpha=0.5\n",
    "                   )\n",
    "\n",
    "# Set title and labels\n",
    "plt.xlabel('residuals', fontsize=10, labelpad=10)\n",
    "plt.ylabel('frequency', fontsize=10, labelpad=10)\n",
    "plt.title('Histogram of model residuals', fontsize=12, pad=10)\n",
    "\n",
    "# Show plot\n",
    "plt.show()"
   ]
  },
  {
   "cell_type": "markdown",
   "metadata": {},
   "source": [
    "### Compare the observed votes with the predicted votes"
   ]
  },
  {
   "cell_type": "code",
   "execution_count": 404,
   "metadata": {},
   "outputs": [
    {
     "name": "stdout",
     "output_type": "stream",
     "text": [
      "Observed rating: 8.1, Predicted rating: 8.2\n",
      "Observed rating: 9.0, Predicted rating: 8.6\n",
      "Observed rating: 8.2, Predicted rating: 8.1\n",
      "Observed rating: 8.4, Predicted rating: 8.2\n",
      "Observed rating: 8.2, Predicted rating: 8.1\n",
      "Observed rating: 8.1, Predicted rating: 8.2\n",
      "Observed rating: 8.1, Predicted rating: 8.0\n",
      "Observed rating: 8.1, Predicted rating: 8.3\n",
      "Observed rating: 8.8, Predicted rating: 8.7\n",
      "Observed rating: 8.2, Predicted rating: 8.0\n"
     ]
    }
   ],
   "source": [
    "# Create model predictions for test data\n",
    "predicted = myfunc(X_test)\n",
    "predicted.round(1)\n",
    "\n",
    "# Compare the observed prices with the predicted prices\n",
    "for i in range(0,10):\n",
    "    print(f'Observed rating: {y_test.iloc[i]:.1f}, Predicted rating: {predicted.iloc[i]:.1f}')"
   ]
  },
  {
   "cell_type": "markdown",
   "metadata": {},
   "source": [
    "## Multiple linear regression"
   ]
  },
  {
   "cell_type": "markdown",
   "metadata": {},
   "source": [
    "### Create train and test samples (train = 80%, test = 20% of the data)"
   ]
  },
  {
   "cell_type": "code",
   "execution_count": 405,
   "metadata": {},
   "outputs": [
    {
     "name": "stdout",
     "output_type": "stream",
     "text": [
      "X2_train:\n",
      "     release_year  votes_count  runtime_(mins)\n",
      "132          1926       100314              78\n",
      "225          1965       268151             172\n",
      "238          1948       157842              80\n",
      "119          2015       841663              95\n",
      "136          2009       191460              92 \n",
      "\n",
      "y2_train:\n",
      "132    8.1\n",
      "225    8.1\n",
      "238    7.9\n",
      "119    8.1\n",
      "136    8.1\n",
      "Name: movie_rating, dtype: float64\n"
     ]
    }
   ],
   "source": [
    "# Create train and test samples (we name it X2_ and y_2 because we already used X_ and y_ above)\n",
    "X2_train, X2_test, y2_train, y2_test = train_test_split(df[['release_year',\n",
    "                                                            'votes_count',\n",
    "                                                            'runtime_(mins)']], \n",
    "                                                        df['movie_rating'], \n",
    "                                                        test_size=0.20, \n",
    "                                                        random_state=42)\n",
    "\n",
    "# Show X2_train\n",
    "print('X2_train:')\n",
    "print(X2_train.head(), '\\n')\n",
    "\n",
    "# Show y2_train\n",
    "print('y2_train:')\n",
    "print(y2_train.head())"
   ]
  },
  {
   "cell_type": "markdown",
   "metadata": {},
   "source": [
    "### fit the regression model"
   ]
  },
  {
   "cell_type": "code",
   "execution_count": 406,
   "metadata": {},
   "outputs": [
    {
     "name": "stdout",
     "output_type": "stream",
     "text": [
      "                            OLS Regression Results                            \n",
      "==============================================================================\n",
      "Dep. Variable:           movie_rating   R-squared:                       0.651\n",
      "Model:                            OLS   Adj. R-squared:                  0.646\n",
      "Method:                 Least Squares   F-statistic:                     121.8\n",
      "Date:                Thu, 26 Dec 2024   Prob (F-statistic):           1.49e-44\n",
      "Time:                        09:32:10   Log-Likelihood:                 97.199\n",
      "No. Observations:                 200   AIC:                            -186.4\n",
      "Df Residuals:                     196   BIC:                            -173.2\n",
      "Df Model:                           3                                         \n",
      "Covariance Type:            nonrobust                                         \n",
      "==================================================================================\n",
      "                     coef    std err          t      P>|t|      [0.025      0.975]\n",
      "----------------------------------------------------------------------------------\n",
      "const             17.7956      0.962     18.491      0.000      15.898      19.694\n",
      "release_year      -0.0050      0.000    -10.221      0.000      -0.006      -0.004\n",
      "votes_count     4.071e-07   2.17e-08     18.735      0.000    3.64e-07     4.5e-07\n",
      "runtime_(mins)     0.0005      0.000      1.604      0.110      -0.000       0.001\n",
      "==============================================================================\n",
      "Omnibus:                       19.164   Durbin-Watson:                   1.935\n",
      "Prob(Omnibus):                  0.000   Jarque-Bera (JB):               24.523\n",
      "Skew:                           0.643   Prob(JB):                     4.73e-06\n",
      "Kurtosis:                       4.135   Cond. No.                     8.06e+07\n",
      "==============================================================================\n",
      "\n",
      "Notes:\n",
      "[1] Standard Errors assume that the covariance matrix of the errors is correctly specified.\n",
      "[2] The condition number is large, 8.06e+07. This might indicate that there are\n",
      "strong multicollinearity or other numerical problems.\n"
     ]
    }
   ],
   "source": [
    "# Add constant to the model\n",
    "X2_train_const = sm.add_constant(X2_train)\n",
    "\n",
    "# Create the multiple regression model\n",
    "olsmod = sm.OLS(y2_train, X2_train_const)\n",
    "olsres = olsmod.fit()\n",
    "\n",
    "# Print full model output\n",
    "print(olsres.summary())"
   ]
  },
  {
   "cell_type": "markdown",
   "metadata": {},
   "source": [
    "### Plot histogram of residuals"
   ]
  },
  {
   "cell_type": "code",
   "execution_count": 407,
   "metadata": {},
   "outputs": [
    {
     "data": {
      "image/png": "[encoded data removed]",
      "text/plain": [
       "<Figure size 800x400 with 1 Axes>"
      ]
     },
     "metadata": {},
     "output_type": "display_data"
    }
   ],
   "source": [
    "# Plot histogram of residuals\n",
    "fig = plt.figure( figsize=(8,4))\n",
    "n, bins, patches = plt.hist(x=olsres.resid, \n",
    "                            bins=25, \n",
    "                            color='blue',\n",
    "                            alpha=0.5\n",
    "                   )\n",
    "\n",
    "# Set labels\n",
    "plt.xlabel('residuals', fontsize=10, labelpad=10)\n",
    "plt.ylabel('frequency', fontsize=10, labelpad=10)\n",
    "plt.title('Histogram of model residuals', fontsize=12, pad=10)\n",
    "\n",
    "plt.show()"
   ]
  },
  {
   "cell_type": "markdown",
   "metadata": {},
   "source": [
    "### Compare the observed ratings with the predicted ratings"
   ]
  },
  {
   "cell_type": "code",
   "execution_count": 408,
   "metadata": {},
   "outputs": [
    {
     "name": "stdout",
     "output_type": "stream",
     "text": [
      "Observed rating: 8.1, Predicted rating: 8.2\n",
      "Observed rating: 9.0, Predicted rating: 8.7\n",
      "Observed rating: 8.2, Predicted rating: 8.1\n",
      "Observed rating: 8.4, Predicted rating: 8.3\n",
      "Observed rating: 8.2, Predicted rating: 8.2\n",
      "Observed rating: 8.1, Predicted rating: 8.2\n",
      "Observed rating: 8.1, Predicted rating: 8.3\n",
      "Observed rating: 8.1, Predicted rating: 8.2\n",
      "Observed rating: 8.8, Predicted rating: 8.9\n",
      "Observed rating: 8.2, Predicted rating: 8.2\n"
     ]
    }
   ],
   "source": [
    "# Add constant to X2_test\n",
    "X2_test_const = sm.add_constant(X2_test)\n",
    "predicted_new = olsres.predict(X2_test_const)\n",
    "\n",
    "# Compare the observed prices with the predicted prices\n",
    "for i in range(0,10):\n",
    "    print(f'Observed rating: {y_test.iloc[i]:.1f}, Predicted rating: {predicted_new.iloc[i]:.1f}')"
   ]
  },
  {
   "cell_type": "markdown",
   "metadata": {},
   "source": [
    "### Jupyter notebook --footer info--"
   ]
  },
  {
   "cell_type": "code",
   "execution_count": 409,
   "metadata": {},
   "outputs": [
    {
     "name": "stdout",
     "output_type": "stream",
     "text": [
      "-----------------------------------\n",
      "POSIX\n",
      "Linux | 6.5.0-1025-azure\n",
      "Datetime: 2024-12-26 09:32:10\n",
      "Python Version: 3.11.10\n",
      "-----------------------------------\n"
     ]
    }
   ],
   "source": [
    "import os\n",
    "import platform\n",
    "import socket\n",
    "from platform import python_version\n",
    "from datetime import datetime\n",
    "\n",
    "print('-----------------------------------')\n",
    "print(os.name.upper())\n",
    "print(platform.system(), '|', platform.release())\n",
    "print('Datetime:', datetime.now().strftime(\"%Y-%m-%d %H:%M:%S\"))\n",
    "print('Python Version:', python_version())\n",
    "print('-----------------------------------')"
   ]
  },
  {
   "cell_type": "markdown",
   "metadata": {},
   "source": [
    "###"
   ]
  }
 ],
 "metadata": {
  "kernelspec": {
   "display_name": "Python 3",
   "language": "python",
   "name": "python3"
  },
  "language_info": {
   "codemirror_mode": {
    "name": "ipython",
    "version": 3
   },
   "file_extension": ".py",
   "mimetype": "text/x-python",
   "name": "python",
   "nbconvert_exporter": "python",
   "pygments_lexer": "ipython3",
   "version": "3.11.10"
  }
 },
 "nbformat": 4,
 "nbformat_minor": 2
}
