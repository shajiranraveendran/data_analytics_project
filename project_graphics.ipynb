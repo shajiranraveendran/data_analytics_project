{
 "cells": [
  {
   "cell_type": "markdown",
   "metadata": {},
   "source": [
    "**LIBRARIES AND SETTINGS (PART 1)**"
   ]
  },
  {
   "cell_type": "code",
   "execution_count": null,
   "metadata": {},
   "outputs": [],
   "source": [
    "# LIBRARIES\n",
    "import os\n",
    "import re\n",
    "import time\n",
    "import requests\n",
    "import json\n",
    "import folium\n",
    "import fnmatch\n",
    "import numpy as np\n",
    "import pandas as pd\n",
    "from pandas import json_normalize\n",
    "import matplotlib.pyplot as plt\n",
    "import numpy as np\n",
    "import seaborn as sns\n",
    "import plotly.express as px\n",
    "\n",
    "# IGNORE WARNINGS\n",
    "import warnings\n",
    "warnings.filterwarnings(\"ignore\")\n",
    "\n",
    "# GET CURRENT WORKING DIRECTORY\n",
    "print(os.getcwd())\n"
   ]
  },
  {
   "cell_type": "markdown",
   "metadata": {},
   "source": [
    "---\n",
    "---"
   ]
  },
  {
   "cell_type": "markdown",
   "metadata": {},
   "source": [
    "**DATA IMPORT / ENRICH**"
   ]
  },
  {
   "cell_type": "code",
   "execution_count": 43,
   "metadata": {},
   "outputs": [
    {
     "name": "stdout",
     "output_type": "stream",
     "text": [
      "\n",
      "MERGED DATA:\n",
      "                                           title  \\\n",
      "0                                  the godfather   \n",
      "1                                the dark knight   \n",
      "2                               schindler's list   \n",
      "3  the lord of the rings: the return of the king   \n",
      "4                                   pulp fiction   \n",
      "\n",
      "                              genres  runtime_(mins) age_rating  \\\n",
      "0                       Crime, Drama             175         16   \n",
      "1     Action, Crime, Drama, Thriller             152         16   \n",
      "2          Biography, Drama, History             195         12   \n",
      "3  Action, Adventure, Drama, Fantasy             201         12   \n",
      "4                       Crime, Drama             154         16   \n",
      "\n",
      "               director movie_rating  votes_count worldwide_lifetime_gross  \\\n",
      "0  Francis Ford Coppola          9,2      2070969             $250,342,198   \n",
      "1     Christopher Nolan          9,0      2950798           $1,009,053,678   \n",
      "2      Steven Spielberg          9,0      1488804             $322,161,245   \n",
      "3         Peter Jackson          9,0      2032584           $1,138,263,151   \n",
      "4     Quentin Tarantino          8,9      2279743             $213,928,762   \n",
      "\n",
      "  domestic_lifetime_gross foreign_lifetime_gross  release_year  \n",
      "0            $136,381,073                  45.5%           NaN  \n",
      "1            $534,987,076                    47%        2008.0  \n",
      "2             $96,898,818                  69.9%        1993.0  \n",
      "3            $381,878,219                  66.4%        2003.0  \n",
      "4            $107,928,762                  49.6%        1994.0  \n"
     ]
    }
   ],
   "source": [
    "# READ CSV-FILES\n",
    "df_imdb = pd.read_csv('IMDB.csv', sep=';', encoding='utf-8')\n",
    "df_financial = pd.read_csv('BoxOffice.csv', sep=';', encoding='utf-8')\n",
    "\n",
    "# CLEAN DATA\n",
    "df_imdb['title'] = df_imdb['title'].str.strip().str.lower()\n",
    "df_financial['title'] = df_financial['title'].str.strip().str.lower()\n",
    "\n",
    "# MERGE DATA\n",
    "df = pd.merge(df_imdb, df_financial, on='title')\n",
    "\n",
    "# PRINT DATA\n",
    "print(\"\\nMERGED DATA:\")\n",
    "print(df.head())\n",
    "\n",
    "# SAVE DATA\n",
    "df.to_csv('IMDB_Merged_Movies.csv', sep=';', index=False, encoding='utf-8')\n"
   ]
  },
  {
   "cell_type": "markdown",
   "metadata": {},
   "source": [
    "**COUNT / IDENTIFY DUPLICATED VALUES (IF ANY)**"
   ]
  },
  {
   "cell_type": "code",
   "execution_count": 44,
   "metadata": {},
   "outputs": [
    {
     "name": "stdout",
     "output_type": "stream",
     "text": [
      "0\n"
     ]
    },
    {
     "data": {
      "text/html": [
       "<div>\n",
       "<style scoped>\n",
       "    .dataframe tbody tr th:only-of-type {\n",
       "        vertical-align: middle;\n",
       "    }\n",
       "\n",
       "    .dataframe tbody tr th {\n",
       "        vertical-align: top;\n",
       "    }\n",
       "\n",
       "    .dataframe thead th {\n",
       "        text-align: right;\n",
       "    }\n",
       "</style>\n",
       "<table border=\"1\" class=\"dataframe\">\n",
       "  <thead>\n",
       "    <tr style=\"text-align: right;\">\n",
       "      <th></th>\n",
       "      <th>title</th>\n",
       "      <th>genres</th>\n",
       "      <th>runtime_(mins)</th>\n",
       "      <th>age_rating</th>\n",
       "      <th>director</th>\n",
       "      <th>movie_rating</th>\n",
       "      <th>votes_count</th>\n",
       "      <th>worldwide_lifetime_gross</th>\n",
       "      <th>domestic_lifetime_gross</th>\n",
       "      <th>foreign_lifetime_gross</th>\n",
       "      <th>release_year</th>\n",
       "    </tr>\n",
       "  </thead>\n",
       "  <tbody>\n",
       "  </tbody>\n",
       "</table>\n",
       "</div>"
      ],
      "text/plain": [
       "Empty DataFrame\n",
       "Columns: [title, genres, runtime_(mins), age_rating, director, movie_rating, votes_count, worldwide_lifetime_gross, domestic_lifetime_gross, foreign_lifetime_gross, release_year]\n",
       "Index: []"
      ]
     },
     "execution_count": 44,
     "metadata": {},
     "output_type": "execute_result"
    }
   ],
   "source": [
    "# COUNT DUPLICATED VALUES\n",
    "print(df.duplicated().sum())\n",
    "\n",
    "# IDENTIFY ROWS WITH DUPLICATED VALUES\n",
    "df[df[['title','genres','runtime_(mins)','age_rating','director','movie_rating','votes_count','worldwide_lifetime_gross','domestic_lifetime_gross','foreign_lifetime_gross','release_year']].duplicated()]"
   ]
  },
  {
   "cell_type": "markdown",
   "metadata": {},
   "source": [
    "**COUNT / IDENTIFY MISSING VALUES (IF ANY)**"
   ]
  },
  {
   "cell_type": "code",
   "execution_count": 45,
   "metadata": {},
   "outputs": [
    {
     "name": "stdout",
     "output_type": "stream",
     "text": [
      "title                       0\n",
      "genres                      0\n",
      "runtime_(mins)              0\n",
      "age_rating                  0\n",
      "director                    0\n",
      "movie_rating                0\n",
      "votes_count                 0\n",
      "worldwide_lifetime_gross    0\n",
      "domestic_lifetime_gross     0\n",
      "foreign_lifetime_gross      0\n",
      "release_year                4\n",
      "dtype: int64\n"
     ]
    },
    {
     "data": {
      "text/html": [
       "<div>\n",
       "<style scoped>\n",
       "    .dataframe tbody tr th:only-of-type {\n",
       "        vertical-align: middle;\n",
       "    }\n",
       "\n",
       "    .dataframe tbody tr th {\n",
       "        vertical-align: top;\n",
       "    }\n",
       "\n",
       "    .dataframe thead th {\n",
       "        text-align: right;\n",
       "    }\n",
       "</style>\n",
       "<table border=\"1\" class=\"dataframe\">\n",
       "  <thead>\n",
       "    <tr style=\"text-align: right;\">\n",
       "      <th></th>\n",
       "      <th>title</th>\n",
       "      <th>genres</th>\n",
       "      <th>runtime_(mins)</th>\n",
       "      <th>age_rating</th>\n",
       "      <th>director</th>\n",
       "      <th>movie_rating</th>\n",
       "      <th>votes_count</th>\n",
       "      <th>worldwide_lifetime_gross</th>\n",
       "      <th>domestic_lifetime_gross</th>\n",
       "      <th>foreign_lifetime_gross</th>\n",
       "      <th>release_year</th>\n",
       "    </tr>\n",
       "  </thead>\n",
       "  <tbody>\n",
       "    <tr>\n",
       "      <th>0</th>\n",
       "      <td>the godfather</td>\n",
       "      <td>Crime, Drama</td>\n",
       "      <td>175</td>\n",
       "      <td>16</td>\n",
       "      <td>Francis Ford Coppola</td>\n",
       "      <td>9,2</td>\n",
       "      <td>2070969</td>\n",
       "      <td>$250,342,198</td>\n",
       "      <td>$136,381,073</td>\n",
       "      <td>45.5%</td>\n",
       "      <td>NaN</td>\n",
       "    </tr>\n",
       "    <tr>\n",
       "      <th>45</th>\n",
       "      <td>gone with the wind</td>\n",
       "      <td>Drama, Romance, War</td>\n",
       "      <td>238</td>\n",
       "      <td>12</td>\n",
       "      <td>Victor Fleming</td>\n",
       "      <td>8,2</td>\n",
       "      <td>340258</td>\n",
       "      <td>$402,382,193</td>\n",
       "      <td>$200,882,193</td>\n",
       "      <td>50.1%</td>\n",
       "      <td>NaN</td>\n",
       "    </tr>\n",
       "    <tr>\n",
       "      <th>69</th>\n",
       "      <td>the exorcist</td>\n",
       "      <td>Horror</td>\n",
       "      <td>122</td>\n",
       "      <td>16</td>\n",
       "      <td>William Friedkin</td>\n",
       "      <td>8,1</td>\n",
       "      <td>468436</td>\n",
       "      <td>$430,872,776</td>\n",
       "      <td>$233,005,644</td>\n",
       "      <td>45.9%</td>\n",
       "      <td>NaN</td>\n",
       "    </tr>\n",
       "    <tr>\n",
       "      <th>74</th>\n",
       "      <td>jaws</td>\n",
       "      <td>Adventure, Drama, Thriller</td>\n",
       "      <td>124</td>\n",
       "      <td>16</td>\n",
       "      <td>Steven Spielberg</td>\n",
       "      <td>8,1</td>\n",
       "      <td>680207</td>\n",
       "      <td>$477,220,580</td>\n",
       "      <td>$266,567,580</td>\n",
       "      <td>44.1%</td>\n",
       "      <td>NaN</td>\n",
       "    </tr>\n",
       "  </tbody>\n",
       "</table>\n",
       "</div>"
      ],
      "text/plain": [
       "                 title                      genres  runtime_(mins) age_rating  \\\n",
       "0        the godfather                Crime, Drama             175         16   \n",
       "45  gone with the wind         Drama, Romance, War             238         12   \n",
       "69        the exorcist                      Horror             122         16   \n",
       "74                jaws  Adventure, Drama, Thriller             124         16   \n",
       "\n",
       "                director movie_rating  votes_count worldwide_lifetime_gross  \\\n",
       "0   Francis Ford Coppola          9,2      2070969             $250,342,198   \n",
       "45        Victor Fleming          8,2       340258             $402,382,193   \n",
       "69      William Friedkin          8,1       468436             $430,872,776   \n",
       "74      Steven Spielberg          8,1       680207             $477,220,580   \n",
       "\n",
       "   domestic_lifetime_gross foreign_lifetime_gross  release_year  \n",
       "0             $136,381,073                  45.5%           NaN  \n",
       "45            $200,882,193                  50.1%           NaN  \n",
       "69            $233,005,644                  45.9%           NaN  \n",
       "74            $266,567,580                  44.1%           NaN  "
      ]
     },
     "execution_count": 45,
     "metadata": {},
     "output_type": "execute_result"
    }
   ],
   "source": [
    "# COUNT MISSING VALUES\n",
    "print(pd.isna(df).sum())\n",
    "\n",
    "# IDENTIFY ROWS WITH MISSING VALUES\n",
    "df[df.isna().any(axis=1)].head()"
   ]
  },
  {
   "cell_type": "markdown",
   "metadata": {},
   "source": [
    "**DROP ROWS WITH MISSING VALUES**"
   ]
  },
  {
   "cell_type": "code",
   "execution_count": 46,
   "metadata": {},
   "outputs": [
    {
     "name": "stdout",
     "output_type": "stream",
     "text": [
      "(84, 11)\n",
      "(80, 11)\n"
     ]
    }
   ],
   "source": [
    "# DROP MISSING VALUES\n",
    "print(df.shape)\n",
    "df = df.dropna()\n",
    "\n",
    "# DROP DUPLICATED VALUES\n",
    "print(df.shape)"
   ]
  },
  {
   "cell_type": "markdown",
   "metadata": {},
   "source": [
    "**COUNT / DATA TYPE**"
   ]
  },
  {
   "cell_type": "code",
   "execution_count": 47,
   "metadata": {},
   "outputs": [
    {
     "name": "stdout",
     "output_type": "stream",
     "text": [
      "Dimension: (80, 11)\n",
      "Number of rows: 80\n",
      "Number of columns: 11\n"
     ]
    },
    {
     "data": {
      "text/plain": [
       "title                        object\n",
       "genres                       object\n",
       "runtime_(mins)                int64\n",
       "age_rating                    int64\n",
       "director                     object\n",
       "movie_rating                float64\n",
       "votes_count                   int64\n",
       "worldwide_lifetime_gross      int64\n",
       "domestic_lifetime_gross       int64\n",
       "foreign_lifetime_gross      float64\n",
       "release_year                  int64\n",
       "dtype: object"
      ]
     },
     "execution_count": 47,
     "metadata": {},
     "output_type": "execute_result"
    }
   ],
   "source": [
    "# REMOVE SPECIAL CHARACTERS\n",
    "df['worldwide_lifetime_gross'] = df['worldwide_lifetime_gross'].replace({'\\$': '', ',': ''}, regex=True).astype('int64')\n",
    "df['domestic_lifetime_gross'] = df['domestic_lifetime_gross'].replace({'\\$': '', ',': ''}, regex=True).astype('int64')\n",
    "df['foreign_lifetime_gross'] = df['foreign_lifetime_gross'].replace({'%': '', ',': ''}, regex=True).astype('float64')/100\n",
    "df['movie_rating'] = df['movie_rating'].str.replace(',', '.').astype('float64')\n",
    "\n",
    "# CHANGE DATA TYPES\n",
    "df['age_rating'] = df['age_rating'].astype('int64')\n",
    "df['release_year'] = df['release_year'].astype('int64')\n",
    "\n",
    "# DIMENSION (ROWS, COLUMNS)\n",
    "print('Dimension:', df.shape)\n",
    "print('Number of rows:', df.shape[0])\n",
    "print('Number of columns:', df.shape[1])\n",
    "\n",
    "# GET DATA TYPES\n",
    "df.dtypes"
   ]
  },
  {
   "cell_type": "code",
   "execution_count": 48,
   "metadata": {},
   "outputs": [
    {
     "name": "stdout",
     "output_type": "stream",
     "text": [
      "                                               title  \\\n",
      "1                                    the dark knight   \n",
      "2                                   schindler's list   \n",
      "3      the lord of the rings: the return of the king   \n",
      "4                                       pulp fiction   \n",
      "5  the lord of the rings: the fellowship of the ring   \n",
      "\n",
      "                              genres  runtime_(mins)  age_rating  \\\n",
      "1     Action, Crime, Drama, Thriller             152          16   \n",
      "2          Biography, Drama, History             195          12   \n",
      "3  Action, Adventure, Drama, Fantasy             201          12   \n",
      "4                       Crime, Drama             154          16   \n",
      "5  Action, Adventure, Drama, Fantasy             178          12   \n",
      "\n",
      "            director  movie_rating  votes_count  worldwide_lifetime_gross  \\\n",
      "1  Christopher Nolan           9.0      2950798                1009053678   \n",
      "2   Steven Spielberg           9.0      1488804                 322161245   \n",
      "3      Peter Jackson           9.0      2032584                1138263151   \n",
      "4  Quentin Tarantino           8.9      2279743                 213928762   \n",
      "5      Peter Jackson           8.9      2062220                 888159923   \n",
      "\n",
      "   domestic_lifetime_gross  foreign_lifetime_gross  release_year  \n",
      "1                534987076                   0.470          2008  \n",
      "2                 96898818                   0.699          1993  \n",
      "3                381878219                   0.664          2003  \n",
      "4                107928762                   0.496          1994  \n",
      "5                319372078                   0.640          2001  \n"
     ]
    }
   ],
   "source": [
    "print (df.head())"
   ]
  },
  {
   "cell_type": "markdown",
   "metadata": {},
   "source": [
    "---\n",
    "---"
   ]
  },
  {
   "cell_type": "markdown",
   "metadata": {},
   "source": [
    "<U>**EXPLORATORY DATA ANALYSIS (EDA): RICH NON-GRAPHICAL / GRAPHICAL**</U>"
   ]
  },
  {
   "cell_type": "markdown",
   "metadata": {},
   "source": [
    "***DISTRIBUTION: DIRECTORS WITH THE MOST MOVIES***"
   ]
  },
  {
   "cell_type": "code",
   "execution_count": 49,
   "metadata": {},
   "outputs": [
    {
     "data": {
      "text/plain": [
       "director\n",
       "Christopher Nolan    5\n",
       "Steven Spielberg     5\n",
       "Peter Jackson        3\n",
       "Quentin Tarantino    3\n",
       "Martin Scorsese      3\n",
       "Pete Docter          3\n",
       "Robert Zemeckis      2\n",
       "Ridley Scott         2\n",
       "Roger Allers         2\n",
       "Andrew Stanton       2\n",
       "Name: count, dtype: int64"
      ]
     },
     "execution_count": 49,
     "metadata": {},
     "output_type": "execute_result"
    }
   ],
   "source": [
    "df['director'].value_counts().head(10) "
   ]
  },
  {
   "cell_type": "code",
   "execution_count": 50,
   "metadata": {},
   "outputs": [
    {
     "data": {
      "image/png": "[encoded data removed]",
      "text/plain": [
       "<Figure size 700x400 with 1 Axes>"
      ]
     },
     "metadata": {},
     "output_type": "display_data"
    }
   ],
   "source": [
    "\n",
    "# PLOT HISTOGRAM\n",
    "fig = plt.figure( figsize=(7,4))\n",
    "\n",
    "plt.xticks(fontsize=14, rotation=0)\n",
    "plt.yticks(fontsize=14, rotation=0)\n",
    "\n",
    "n, bins, patches = plt.hist(x=df['director'].value_counts(), \n",
    "                            bins=25, \n",
    "                            color='#026c8e',\n",
    "                            alpha=0.5, \n",
    "                            rwidth=0.95\n",
    "                   )\n",
    "plt.grid(True)\n",
    "plt.ticklabel_format(style='plain')\n",
    "plt.grid(alpha=0.2)\n",
    "\n",
    "# SET LABELS\n",
    "plt.title('DISTRIBUTION OF MOVIE RELEASES PER DIRECTOR', fontsize=12, pad=10)\n",
    "plt.xlabel('NUMBER OF MOVIE RELEASES', fontsize=10, labelpad=10)\n",
    "plt.ylabel('NUMBER OF DIRECTOR', fontsize=10, labelpad=10)\n",
    "\n",
    "# SET FONT SIZE OF LABELS\n",
    "plt.xticks(fontsize = 10)\n",
    "plt.yticks(fontsize = 10)\n",
    "\n",
    "plt.show()"
   ]
  },
  {
   "cell_type": "markdown",
   "metadata": {},
   "source": [
    "***DISTRIBUTION: MOVIES BY RELEASE YEAR***"
   ]
  },
  {
   "cell_type": "code",
   "execution_count": 51,
   "metadata": {},
   "outputs": [
    {
     "data": {
      "text/plain": [
       "release_year\n",
       "2019    6\n",
       "2010    5\n",
       "1999    4\n",
       "2014    4\n",
       "2017    4\n",
       "1991    4\n",
       "2008    3\n",
       "2018    3\n",
       "2015    3\n",
       "2012    3\n",
       "Name: count, dtype: int64"
      ]
     },
     "execution_count": 51,
     "metadata": {},
     "output_type": "execute_result"
    }
   ],
   "source": [
    "df['release_year'].value_counts().head(10) "
   ]
  },
  {
   "cell_type": "code",
   "execution_count": 52,
   "metadata": {},
   "outputs": [
    {
     "data": {
      "image/png": "[encoded data removed]",
      "text/plain": [
       "<Figure size 700x400 with 1 Axes>"
      ]
     },
     "metadata": {},
     "output_type": "display_data"
    }
   ],
   "source": [
    "# MOVIE RELEASES BY YEAR\n",
    "release_year_counts = df['release_year'].value_counts().sort_index()\n",
    "\n",
    "# PLOT BAR CHART\n",
    "fig = plt.figure(figsize=(7, 4))\n",
    "\n",
    "release_year_counts.plot(kind='bar', color='#026c8e', alpha=0.5)\n",
    "plt.grid(True)\n",
    "plt.grid(alpha=0.2)\n",
    "\n",
    "# SET LABELS\n",
    "plt.title('NUMBER OF MOVIES RELEASED PER YEAR', fontsize=14)\n",
    "plt.xlabel('RELEASE YEAR', fontsize=12)\n",
    "plt.ylabel('NUMBER OF MOVIES', fontsize=12)\n",
    "\n",
    "# SET FONT SIZE OF LABELS\n",
    "plt.xticks(fontsize=10, rotation=45)\n",
    "plt.yticks(fontsize=10)\n",
    "\n",
    "plt.show()\n"
   ]
  },
  {
   "cell_type": "markdown",
   "metadata": {},
   "source": [
    "**CREATE NEW VARIABLE (CATEGORIAL / V1)**"
   ]
  },
  {
   "cell_type": "code",
   "execution_count": 53,
   "metadata": {},
   "outputs": [
    {
     "name": "stdout",
     "output_type": "stream",
     "text": [
      "    release_year year_cat2\n",
      "1           2008     2000s\n",
      "2           1993     1990s\n",
      "3           2003     2000s\n",
      "4           1994     1990s\n",
      "5           2001     2000s\n",
      "6           1994     1990s\n",
      "7           2010     2000s\n",
      "8           1980     1970s\n",
      "9           2002     2000s\n",
      "10          2019     2010s\n"
     ]
    }
   ],
   "source": [
    "# DEFINE LABLES\n",
    "labels_price = ['1950s', '1960s', '1970s', '1980s', '1990s', '2000s', '2010s']\n",
    "\n",
    "# CONVERT RELEASE_YEAR TO INTEGER WITH ERROR HANDLING\n",
    "if 'release_year' in df.columns:\n",
    "    df['release_year'] = df['release_year'].astype(int)\n",
    "\n",
    "# CREATE CATEGORIES \n",
    "df[\"year_cat2\"] = pd.cut(df['release_year'], bins=[ 1950, 1960, 1970, 1980, 1990, 2000, 2010, 2020],labels=labels_price)\n",
    "\n",
    "# SHOW CATEGORIES\n",
    "print(df[['release_year', 'year_cat2']].head(10))\n"
   ]
  },
  {
   "cell_type": "code",
   "execution_count": 54,
   "metadata": {},
   "outputs": [
    {
     "data": {
      "image/png": "[encoded data removed]",
      "text/plain": [
       "<Figure size 700x400 with 1 Axes>"
      ]
     },
     "metadata": {},
     "output_type": "display_data"
    }
   ],
   "source": [
    "# DISPLAY BAR CHART\n",
    "fig = plt.figure(figsize=(7,4))\n",
    "\n",
    "# COUNT CATEGORIES\n",
    "category_counts = df['year_cat2'].value_counts().sort_index()\n",
    "\n",
    "# PLOT BAR CHART\n",
    "category_counts.plot(kind='bar', color='#026c8e', alpha=0.5)\n",
    "plt.grid(True)\n",
    "plt.grid(alpha=0.2)\n",
    "\n",
    "# SET LABELS\n",
    "plt.title('DISTRIBUTION OF MOVIE RELEASE YEARS BY DECADE', fontsize=14)\n",
    "plt.xlabel('DECADES', fontsize=12)\n",
    "plt.ylabel('NUMBER OF MOVIES', fontsize=12)\n",
    "plt.xticks(fontsize=10, rotation=45)\n",
    "plt.yticks(fontsize=10)\n",
    "\n",
    "plt.show()\n"
   ]
  },
  {
   "cell_type": "markdown",
   "metadata": {},
   "source": [
    "**CREATE NEW VARIABLE (CATEGORIAL / V2)**"
   ]
  },
  {
   "cell_type": "code",
   "execution_count": 55,
   "metadata": {},
   "outputs": [
    {
     "name": "stdout",
     "output_type": "stream",
     "text": [
      "    release_year     year_cat\n",
      "1           2008  2000 - 2009\n",
      "2           1993  1990 - 1999\n",
      "3           2003  2000 - 2009\n",
      "4           1994  1990 - 1999\n",
      "5           2001  2000 - 2009\n",
      "6           1994  1990 - 1999\n",
      "7           2010  2000 - 2009\n",
      "8           1980  1970 - 1979\n",
      "9           2002  2000 - 2009\n",
      "10          2019  2010 - 2019\n"
     ]
    }
   ],
   "source": [
    "# DEFINE LABELS\n",
    "labels = ['1970 - 1979', '1980 - 1989', '1990 - 1999', '2000 - 2009', '2010 - 2019']\n",
    "\n",
    "# CONVERT RELEASE_YEAR TO INTEGER WITH ERROR HANDLING\n",
    "if 'release_year' in df.columns:\n",
    "    df['release_year'] = df['release_year'].astype(int)\n",
    "\n",
    "# CREATE CATEGORIES\n",
    "df[\"year_cat\"] = pd.cut(df['release_year'], bins=[1970, 1980, 1990, 2000, 2010, 2020], labels=labels)\n",
    "\n",
    "# SHOW CATEGORIES\n",
    "print(df[['release_year', 'year_cat']].head(10))\n"
   ]
  },
  {
   "cell_type": "code",
   "execution_count": 56,
   "metadata": {},
   "outputs": [
    {
     "data": {
      "image/png": "[encoded data removed]",
      "text/plain": [
       "<Figure size 700x400 with 1 Axes>"
      ]
     },
     "metadata": {},
     "output_type": "display_data"
    }
   ],
   "source": [
    "# DISPLAY HISTOGRAM\n",
    "fig = plt.figure(figsize=(7, 4))\n",
    "\n",
    "# PLOT HISTOGRAM\n",
    "plt.hist(df['release_year'], bins=[1970, 1980, 1990, 2000, 2010, 2020], color='#026c8e', alpha=0.4, rwidth=0.95)\n",
    "\n",
    "# SET GRID AND FORMAT\n",
    "plt.grid(True)\n",
    "plt.grid(alpha=0.2)\n",
    "\n",
    "# SET LABELS\n",
    "plt.title('DISTRIBUTION OF MOVIE RELEASE YEARS BY DECADE', fontsize=14)\n",
    "plt.xlabel('DECADES', fontsize=12)\n",
    "plt.ylabel('NUMBER OF MOVIES', fontsize=12)\n",
    "plt.xticks([1975, 1985, 1995, 2005, 2015], ['1970-1979', '1980-1989', '1990-1999', '2000-2009', '2010-2019'], fontsize=10, rotation=45)\n",
    "plt.yticks(fontsize=10)\n",
    "\n",
    "plt.show()\n"
   ]
  },
  {
   "cell_type": "markdown",
   "metadata": {},
   "source": [
    "<U>**STATISTICS**</U>"
   ]
  },
  {
   "cell_type": "markdown",
   "metadata": {},
   "source": [
    "***SUMMARY STATISTICS OF NUMERIC VARIABLES***"
   ]
  },
  {
   "cell_type": "code",
   "execution_count": 57,
   "metadata": {},
   "outputs": [
    {
     "data": {
      "text/html": [
       "<div>\n",
       "<style scoped>\n",
       "    .dataframe tbody tr th:only-of-type {\n",
       "        vertical-align: middle;\n",
       "    }\n",
       "\n",
       "    .dataframe tbody tr th {\n",
       "        vertical-align: top;\n",
       "    }\n",
       "\n",
       "    .dataframe thead th {\n",
       "        text-align: right;\n",
       "    }\n",
       "</style>\n",
       "<table border=\"1\" class=\"dataframe\">\n",
       "  <thead>\n",
       "    <tr style=\"text-align: right;\">\n",
       "      <th></th>\n",
       "      <th>runtime_(mins)</th>\n",
       "      <th>age_rating</th>\n",
       "      <th>movie_rating</th>\n",
       "      <th>votes_count</th>\n",
       "      <th>worldwide_lifetime_gross</th>\n",
       "      <th>domestic_lifetime_gross</th>\n",
       "      <th>foreign_lifetime_gross</th>\n",
       "      <th>release_year</th>\n",
       "    </tr>\n",
       "  </thead>\n",
       "  <tbody>\n",
       "    <tr>\n",
       "      <th>count</th>\n",
       "      <td>80.00</td>\n",
       "      <td>80.00</td>\n",
       "      <td>80.00</td>\n",
       "      <td>80.00</td>\n",
       "      <td>8.000000e+01</td>\n",
       "      <td>8.000000e+01</td>\n",
       "      <td>80.00</td>\n",
       "      <td>80.00</td>\n",
       "    </tr>\n",
       "    <tr>\n",
       "      <th>mean</th>\n",
       "      <td>133.07</td>\n",
       "      <td>9.93</td>\n",
       "      <td>8.30</td>\n",
       "      <td>1162905.56</td>\n",
       "      <td>6.119853e+08</td>\n",
       "      <td>2.443303e+08</td>\n",
       "      <td>0.58</td>\n",
       "      <td>2004.49</td>\n",
       "    </tr>\n",
       "    <tr>\n",
       "      <th>std</th>\n",
       "      <td>29.54</td>\n",
       "      <td>5.82</td>\n",
       "      <td>0.29</td>\n",
       "      <td>562810.51</td>\n",
       "      <td>4.418680e+08</td>\n",
       "      <td>1.504762e+08</td>\n",
       "      <td>0.09</td>\n",
       "      <td>10.81</td>\n",
       "    </tr>\n",
       "    <tr>\n",
       "      <th>min</th>\n",
       "      <td>81.00</td>\n",
       "      <td>0.00</td>\n",
       "      <td>7.90</td>\n",
       "      <td>40297.00</td>\n",
       "      <td>1.874368e+08</td>\n",
       "      <td>5.667199e+07</td>\n",
       "      <td>0.24</td>\n",
       "      <td>1977.00</td>\n",
       "    </tr>\n",
       "    <tr>\n",
       "      <th>25%</th>\n",
       "      <td>114.75</td>\n",
       "      <td>6.00</td>\n",
       "      <td>8.10</td>\n",
       "      <td>749621.25</td>\n",
       "      <td>3.202932e+08</td>\n",
       "      <td>1.380254e+08</td>\n",
       "      <td>0.52</td>\n",
       "      <td>1995.00</td>\n",
       "    </tr>\n",
       "    <tr>\n",
       "      <th>50%</th>\n",
       "      <td>130.50</td>\n",
       "      <td>12.00</td>\n",
       "      <td>8.20</td>\n",
       "      <td>1121958.50</td>\n",
       "      <td>4.731301e+08</td>\n",
       "      <td>2.066546e+08</td>\n",
       "      <td>0.59</td>\n",
       "      <td>2006.50</td>\n",
       "    </tr>\n",
       "    <tr>\n",
       "      <th>75%</th>\n",
       "      <td>151.25</td>\n",
       "      <td>13.00</td>\n",
       "      <td>8.50</td>\n",
       "      <td>1485854.25</td>\n",
       "      <td>7.852092e+08</td>\n",
       "      <td>3.221429e+08</td>\n",
       "      <td>0.64</td>\n",
       "      <td>2014.00</td>\n",
       "    </tr>\n",
       "    <tr>\n",
       "      <th>max</th>\n",
       "      <td>201.00</td>\n",
       "      <td>16.00</td>\n",
       "      <td>9.00</td>\n",
       "      <td>2950798.00</td>\n",
       "      <td>2.799439e+09</td>\n",
       "      <td>8.583730e+08</td>\n",
       "      <td>0.74</td>\n",
       "      <td>2019.00</td>\n",
       "    </tr>\n",
       "  </tbody>\n",
       "</table>\n",
       "</div>"
      ],
      "text/plain": [
       "       runtime_(mins)  age_rating  movie_rating  votes_count  \\\n",
       "count           80.00       80.00         80.00        80.00   \n",
       "mean           133.07        9.93          8.30   1162905.56   \n",
       "std             29.54        5.82          0.29    562810.51   \n",
       "min             81.00        0.00          7.90     40297.00   \n",
       "25%            114.75        6.00          8.10    749621.25   \n",
       "50%            130.50       12.00          8.20   1121958.50   \n",
       "75%            151.25       13.00          8.50   1485854.25   \n",
       "max            201.00       16.00          9.00   2950798.00   \n",
       "\n",
       "       worldwide_lifetime_gross  domestic_lifetime_gross  \\\n",
       "count              8.000000e+01             8.000000e+01   \n",
       "mean               6.119853e+08             2.443303e+08   \n",
       "std                4.418680e+08             1.504762e+08   \n",
       "min                1.874368e+08             5.667199e+07   \n",
       "25%                3.202932e+08             1.380254e+08   \n",
       "50%                4.731301e+08             2.066546e+08   \n",
       "75%                7.852092e+08             3.221429e+08   \n",
       "max                2.799439e+09             8.583730e+08   \n",
       "\n",
       "       foreign_lifetime_gross  release_year  \n",
       "count                   80.00         80.00  \n",
       "mean                     0.58       2004.49  \n",
       "std                      0.09         10.81  \n",
       "min                      0.24       1977.00  \n",
       "25%                      0.52       1995.00  \n",
       "50%                      0.59       2006.50  \n",
       "75%                      0.64       2014.00  \n",
       "max                      0.74       2019.00  "
      ]
     },
     "execution_count": 57,
     "metadata": {},
     "output_type": "execute_result"
    }
   ],
   "source": [
    "df.describe().round(2)"
   ]
  },
  {
   "cell_type": "markdown",
   "metadata": {},
   "source": [
    "***QUANTILES VALUES***"
   ]
  },
  {
   "cell_type": "code",
   "execution_count": 58,
   "metadata": {},
   "outputs": [
    {
     "data": {
      "text/html": [
       "<div>\n",
       "<style scoped>\n",
       "    .dataframe tbody tr th:only-of-type {\n",
       "        vertical-align: middle;\n",
       "    }\n",
       "\n",
       "    .dataframe tbody tr th {\n",
       "        vertical-align: top;\n",
       "    }\n",
       "\n",
       "    .dataframe thead th {\n",
       "        text-align: right;\n",
       "    }\n",
       "</style>\n",
       "<table border=\"1\" class=\"dataframe\">\n",
       "  <thead>\n",
       "    <tr style=\"text-align: right;\">\n",
       "      <th></th>\n",
       "      <th>release_year</th>\n",
       "      <th>runtime_(mins)</th>\n",
       "    </tr>\n",
       "  </thead>\n",
       "  <tbody>\n",
       "    <tr>\n",
       "      <th>0.05</th>\n",
       "      <td>1987.85</td>\n",
       "      <td>88.00</td>\n",
       "    </tr>\n",
       "    <tr>\n",
       "      <th>0.10</th>\n",
       "      <td>1990.90</td>\n",
       "      <td>94.70</td>\n",
       "    </tr>\n",
       "    <tr>\n",
       "      <th>0.25</th>\n",
       "      <td>1995.00</td>\n",
       "      <td>114.75</td>\n",
       "    </tr>\n",
       "    <tr>\n",
       "      <th>0.50</th>\n",
       "      <td>2006.50</td>\n",
       "      <td>130.50</td>\n",
       "    </tr>\n",
       "    <tr>\n",
       "      <th>0.75</th>\n",
       "      <td>2014.00</td>\n",
       "      <td>151.25</td>\n",
       "    </tr>\n",
       "    <tr>\n",
       "      <th>0.90</th>\n",
       "      <td>2018.00</td>\n",
       "      <td>178.10</td>\n",
       "    </tr>\n",
       "    <tr>\n",
       "      <th>0.95</th>\n",
       "      <td>2019.00</td>\n",
       "      <td>181.40</td>\n",
       "    </tr>\n",
       "  </tbody>\n",
       "</table>\n",
       "</div>"
      ],
      "text/plain": [
       "      release_year  runtime_(mins)\n",
       "0.05       1987.85           88.00\n",
       "0.10       1990.90           94.70\n",
       "0.25       1995.00          114.75\n",
       "0.50       2006.50          130.50\n",
       "0.75       2014.00          151.25\n",
       "0.90       2018.00          178.10\n",
       "0.95       2019.00          181.40"
      ]
     },
     "execution_count": 58,
     "metadata": {},
     "output_type": "execute_result"
    }
   ],
   "source": [
    "df[['release_year', 'runtime_(mins)']].quantile(q=[0.05, 0.10, 0.25, 0.50, 0.75, 0.90, 0.95]).round(2)"
   ]
  },
  {
   "cell_type": "markdown",
   "metadata": {},
   "source": [
    "---\n",
    "---"
   ]
  },
  {
   "cell_type": "markdown",
   "metadata": {},
   "source": [
    "**GEOGRAPHICAL DATA**"
   ]
  },
  {
   "cell_type": "code",
   "execution_count": 59,
   "metadata": {},
   "outputs": [
    {
     "name": "stdout",
     "output_type": "stream",
     "text": [
      "AGGREGATED MOVIE DATA BY COUNTRY:\n",
      "                     Area        mean\n",
      "0                 Austria   4'575'470\n",
      "1                 Bahrain     106'048\n",
      "2                 Belgium   6'430'234\n",
      "3                Bulgaria     599'830\n",
      "4                 Croatia     711'626\n",
      "5                  Cyprus      29'957\n",
      "6          Czech Republic   2'412'210\n",
      "7                 Denmark   5'198'657\n",
      "8                   Egypt     168'454\n",
      "9                 Estonia     183'454\n",
      "10                Finland   3'315'422\n",
      "11                 France  36'576'286\n",
      "12                Germany  34'241'525\n",
      "13                 Greece   1'612'745\n",
      "14                Hungary   1'931'317\n",
      "15                Iceland     406'744\n",
      "16                 Israel     617'522\n",
      "17                  Italy  23'107'293\n",
      "18                 Jordan      76'998\n",
      "19                 Kuwait     427'631\n",
      "20                 Latvia      72'973\n",
      "21                Lebanon      85'910\n",
      "22              Lithuania     503'902\n",
      "23            Netherlands  13'316'856\n",
      "24                 Norway   4'631'604\n",
      "25                   Oman      63'048\n",
      "26                 Poland   6'613'466\n",
      "27               Portugal   3'551'735\n",
      "28                  Qatar     134'647\n",
      "29                Romania   1'605'497\n",
      "30  Serbia and Montenegro     327'282\n",
      "31               Slovakia   1'021'454\n",
      "32               Slovenia     385'506\n",
      "33           South Africa   2'537'489\n",
      "34                  Spain  24'171'812\n",
      "35                 Sweden   7'399'975\n",
      "36            Switzerland   5'569'708\n",
      "37                Türkiye   2'507'791\n",
      "38                Ukraine   3'108'890\n",
      "39   United Arab Emirates   5'750'983\n",
      "40         United Kingdom  65'246'235\n",
      "\n",
      "\n",
      "TOP 5 COUNTRIES BY AVERAGE GROSS REVENUE:\n",
      "              Area        mean\n",
      "40  United Kingdom  65'246'235\n",
      "11          France  36'576'286\n",
      "12         Germany  34'241'525\n",
      "34           Spain  24'171'812\n",
      "17           Italy  23'107'293\n"
     ]
    },
    {
     "data": {
      "application/vnd.plotly.v1+json": {
       "config": {
        "plotlyServerURL": "https://plot.ly"
       },
       "data": [
        {
         "coloraxis": "coloraxis",
         "geo": "geo",
         "hovertemplate": "Area=%{location}<br>mean_numeric=%{z}<extra></extra>",
         "locationmode": "country names",
         "locations": [
          "Austria",
          "Bahrain",
          "Belgium",
          "Bulgaria",
          "Croatia",
          "Cyprus",
          "Czech Republic",
          "Denmark",
          "Egypt",
          "Estonia",
          "Finland",
          "France",
          "Germany",
          "Greece",
          "Hungary",
          "Iceland",
          "Israel",
          "Italy",
          "Jordan",
          "Kuwait",
          "Latvia",
          "Lebanon",
          "Lithuania",
          "Netherlands",
          "Norway",
          "Oman",
          "Poland",
          "Portugal",
          "Qatar",
          "Romania",
          "Serbia and Montenegro",
          "Slovakia",
          "Slovenia",
          "South Africa",
          "Spain",
          "Sweden",
          "Switzerland",
          "Türkiye",
          "Ukraine",
          "United Arab Emirates",
          "United Kingdom"
         ],
         "name": "",
         "type": "choropleth",
         "z": [
          4575470,
          106048,
          6430234,
          599830,
          711626,
          29957,
          2412210,
          5198657,
          168454,
          183454,
          3315422,
          36576286,
          34241525,
          1612745,
          1931317,
          406744,
          617522,
          23107293,
          76998,
          427631,
          72973,
          85910,
          503902,
          13316856,
          4631604,
          63048,
          6613466,
          3551735,
          134647,
          1605497,
          327282,
          1021454,
          385506,
          2537489,
          24171812,
          7399975,
          5569708,
          2507791,
          3108890,
          5750983,
          65246235
         ]
        }
       ],
       "layout": {
        "coloraxis": {
         "colorbar": {
          "title": {
           "text": "mean_numeric"
          }
         },
         "colorscale": [
          [
           0,
           "rgb(247,251,255)"
          ],
          [
           0.125,
           "rgb(222,235,247)"
          ],
          [
           0.25,
           "rgb(198,219,239)"
          ],
          [
           0.375,
           "rgb(158,202,225)"
          ],
          [
           0.5,
           "rgb(107,174,214)"
          ],
          [
           0.625,
           "rgb(66,146,198)"
          ],
          [
           0.75,
           "rgb(33,113,181)"
          ],
          [
           0.875,
           "rgb(8,81,156)"
          ],
          [
           1,
           "rgb(8,48,107)"
          ]
         ]
        },
        "geo": {
         "center": {},
         "domain": {
          "x": [
           0,
           1
          ],
          "y": [
           0,
           1
          ]
         },
         "scope": "europe"
        },
        "legend": {
         "tracegroupgap": 0
        },
        "template": {
         "data": {
          "bar": [
           {
            "error_x": {
             "color": "#2a3f5f"
            },
            "error_y": {
             "color": "#2a3f5f"
            },
            "marker": {
             "line": {
              "color": "#E5ECF6",
              "width": 0.5
             },
             "pattern": {
              "fillmode": "overlay",
              "size": 10,
              "solidity": 0.2
             }
            },
            "type": "bar"
           }
          ],
          "barpolar": [
           {
            "marker": {
             "line": {
              "color": "#E5ECF6",
              "width": 0.5
             },
             "pattern": {
              "fillmode": "overlay",
              "size": 10,
              "solidity": 0.2
             }
            },
            "type": "barpolar"
           }
          ],
          "carpet": [
           {
            "aaxis": {
             "endlinecolor": "#2a3f5f",
             "gridcolor": "white",
             "linecolor": "white",
             "minorgridcolor": "white",
             "startlinecolor": "#2a3f5f"
            },
            "baxis": {
             "endlinecolor": "#2a3f5f",
             "gridcolor": "white",
             "linecolor": "white",
             "minorgridcolor": "white",
             "startlinecolor": "#2a3f5f"
            },
            "type": "carpet"
           }
          ],
          "choropleth": [
           {
            "colorbar": {
             "outlinewidth": 0,
             "ticks": ""
            },
            "type": "choropleth"
           }
          ],
          "contour": [
           {
            "colorbar": {
             "outlinewidth": 0,
             "ticks": ""
            },
            "colorscale": [
             [
              0,
              "#0d0887"
             ],
             [
              0.1111111111111111,
              "#46039f"
             ],
             [
              0.2222222222222222,
              "#7201a8"
             ],
             [
              0.3333333333333333,
              "#9c179e"
             ],
             [
              0.4444444444444444,
              "#bd3786"
             ],
             [
              0.5555555555555556,
              "#d8576b"
             ],
             [
              0.6666666666666666,
              "#ed7953"
             ],
             [
              0.7777777777777778,
              "#fb9f3a"
             ],
             [
              0.8888888888888888,
              "#fdca26"
             ],
             [
              1,
              "#f0f921"
             ]
            ],
            "type": "contour"
           }
          ],
          "contourcarpet": [
           {
            "colorbar": {
             "outlinewidth": 0,
             "ticks": ""
            },
            "type": "contourcarpet"
           }
          ],
          "heatmap": [
           {
            "colorbar": {
             "outlinewidth": 0,
             "ticks": ""
            },
            "colorscale": [
             [
              0,
              "#0d0887"
             ],
             [
              0.1111111111111111,
              "#46039f"
             ],
             [
              0.2222222222222222,
              "#7201a8"
             ],
             [
              0.3333333333333333,
              "#9c179e"
             ],
             [
              0.4444444444444444,
              "#bd3786"
             ],
             [
              0.5555555555555556,
              "#d8576b"
             ],
             [
              0.6666666666666666,
              "#ed7953"
             ],
             [
              0.7777777777777778,
              "#fb9f3a"
             ],
             [
              0.8888888888888888,
              "#fdca26"
             ],
             [
              1,
              "#f0f921"
             ]
            ],
            "type": "heatmap"
           }
          ],
          "heatmapgl": [
           {
            "colorbar": {
             "outlinewidth": 0,
             "ticks": ""
            },
            "colorscale": [
             [
              0,
              "#0d0887"
             ],
             [
              0.1111111111111111,
              "#46039f"
             ],
             [
              0.2222222222222222,
              "#7201a8"
             ],
             [
              0.3333333333333333,
              "#9c179e"
             ],
             [
              0.4444444444444444,
              "#bd3786"
             ],
             [
              0.5555555555555556,
              "#d8576b"
             ],
             [
              0.6666666666666666,
              "#ed7953"
             ],
             [
              0.7777777777777778,
              "#fb9f3a"
             ],
             [
              0.8888888888888888,
              "#fdca26"
             ],
             [
              1,
              "#f0f921"
             ]
            ],
            "type": "heatmapgl"
           }
          ],
          "histogram": [
           {
            "marker": {
             "pattern": {
              "fillmode": "overlay",
              "size": 10,
              "solidity": 0.2
             }
            },
            "type": "histogram"
           }
          ],
          "histogram2d": [
           {
            "colorbar": {
             "outlinewidth": 0,
             "ticks": ""
            },
            "colorscale": [
             [
              0,
              "#0d0887"
             ],
             [
              0.1111111111111111,
              "#46039f"
             ],
             [
              0.2222222222222222,
              "#7201a8"
             ],
             [
              0.3333333333333333,
              "#9c179e"
             ],
             [
              0.4444444444444444,
              "#bd3786"
             ],
             [
              0.5555555555555556,
              "#d8576b"
             ],
             [
              0.6666666666666666,
              "#ed7953"
             ],
             [
              0.7777777777777778,
              "#fb9f3a"
             ],
             [
              0.8888888888888888,
              "#fdca26"
             ],
             [
              1,
              "#f0f921"
             ]
            ],
            "type": "histogram2d"
           }
          ],
          "histogram2dcontour": [
           {
            "colorbar": {
             "outlinewidth": 0,
             "ticks": ""
            },
            "colorscale": [
             [
              0,
              "#0d0887"
             ],
             [
              0.1111111111111111,
              "#46039f"
             ],
             [
              0.2222222222222222,
              "#7201a8"
             ],
             [
              0.3333333333333333,
              "#9c179e"
             ],
             [
              0.4444444444444444,
              "#bd3786"
             ],
             [
              0.5555555555555556,
              "#d8576b"
             ],
             [
              0.6666666666666666,
              "#ed7953"
             ],
             [
              0.7777777777777778,
              "#fb9f3a"
             ],
             [
              0.8888888888888888,
              "#fdca26"
             ],
             [
              1,
              "#f0f921"
             ]
            ],
            "type": "histogram2dcontour"
           }
          ],
          "mesh3d": [
           {
            "colorbar": {
             "outlinewidth": 0,
             "ticks": ""
            },
            "type": "mesh3d"
           }
          ],
          "parcoords": [
           {
            "line": {
             "colorbar": {
              "outlinewidth": 0,
              "ticks": ""
             }
            },
            "type": "parcoords"
           }
          ],
          "pie": [
           {
            "automargin": true,
            "type": "pie"
           }
          ],
          "scatter": [
           {
            "fillpattern": {
             "fillmode": "overlay",
             "size": 10,
             "solidity": 0.2
            },
            "type": "scatter"
           }
          ],
          "scatter3d": [
           {
            "line": {
             "colorbar": {
              "outlinewidth": 0,
              "ticks": ""
             }
            },
            "marker": {
             "colorbar": {
              "outlinewidth": 0,
              "ticks": ""
             }
            },
            "type": "scatter3d"
           }
          ],
          "scattercarpet": [
           {
            "marker": {
             "colorbar": {
              "outlinewidth": 0,
              "ticks": ""
             }
            },
            "type": "scattercarpet"
           }
          ],
          "scattergeo": [
           {
            "marker": {
             "colorbar": {
              "outlinewidth": 0,
              "ticks": ""
             }
            },
            "type": "scattergeo"
           }
          ],
          "scattergl": [
           {
            "marker": {
             "colorbar": {
              "outlinewidth": 0,
              "ticks": ""
             }
            },
            "type": "scattergl"
           }
          ],
          "scattermapbox": [
           {
            "marker": {
             "colorbar": {
              "outlinewidth": 0,
              "ticks": ""
             }
            },
            "type": "scattermapbox"
           }
          ],
          "scatterpolar": [
           {
            "marker": {
             "colorbar": {
              "outlinewidth": 0,
              "ticks": ""
             }
            },
            "type": "scatterpolar"
           }
          ],
          "scatterpolargl": [
           {
            "marker": {
             "colorbar": {
              "outlinewidth": 0,
              "ticks": ""
             }
            },
            "type": "scatterpolargl"
           }
          ],
          "scatterternary": [
           {
            "marker": {
             "colorbar": {
              "outlinewidth": 0,
              "ticks": ""
             }
            },
            "type": "scatterternary"
           }
          ],
          "surface": [
           {
            "colorbar": {
             "outlinewidth": 0,
             "ticks": ""
            },
            "colorscale": [
             [
              0,
              "#0d0887"
             ],
             [
              0.1111111111111111,
              "#46039f"
             ],
             [
              0.2222222222222222,
              "#7201a8"
             ],
             [
              0.3333333333333333,
              "#9c179e"
             ],
             [
              0.4444444444444444,
              "#bd3786"
             ],
             [
              0.5555555555555556,
              "#d8576b"
             ],
             [
              0.6666666666666666,
              "#ed7953"
             ],
             [
              0.7777777777777778,
              "#fb9f3a"
             ],
             [
              0.8888888888888888,
              "#fdca26"
             ],
             [
              1,
              "#f0f921"
             ]
            ],
            "type": "surface"
           }
          ],
          "table": [
           {
            "cells": {
             "fill": {
              "color": "#EBF0F8"
             },
             "line": {
              "color": "white"
             }
            },
            "header": {
             "fill": {
              "color": "#C8D4E3"
             },
             "line": {
              "color": "white"
             }
            },
            "type": "table"
           }
          ]
         },
         "layout": {
          "annotationdefaults": {
           "arrowcolor": "#2a3f5f",
           "arrowhead": 0,
           "arrowwidth": 1
          },
          "autotypenumbers": "strict",
          "coloraxis": {
           "colorbar": {
            "outlinewidth": 0,
            "ticks": ""
           }
          },
          "colorscale": {
           "diverging": [
            [
             0,
             "#8e0152"
            ],
            [
             0.1,
             "#c51b7d"
            ],
            [
             0.2,
             "#de77ae"
            ],
            [
             0.3,
             "#f1b6da"
            ],
            [
             0.4,
             "#fde0ef"
            ],
            [
             0.5,
             "#f7f7f7"
            ],
            [
             0.6,
             "#e6f5d0"
            ],
            [
             0.7,
             "#b8e186"
            ],
            [
             0.8,
             "#7fbc41"
            ],
            [
             0.9,
             "#4d9221"
            ],
            [
             1,
             "#276419"
            ]
           ],
           "sequential": [
            [
             0,
             "#0d0887"
            ],
            [
             0.1111111111111111,
             "#46039f"
            ],
            [
             0.2222222222222222,
             "#7201a8"
            ],
            [
             0.3333333333333333,
             "#9c179e"
            ],
            [
             0.4444444444444444,
             "#bd3786"
            ],
            [
             0.5555555555555556,
             "#d8576b"
            ],
            [
             0.6666666666666666,
             "#ed7953"
            ],
            [
             0.7777777777777778,
             "#fb9f3a"
            ],
            [
             0.8888888888888888,
             "#fdca26"
            ],
            [
             1,
             "#f0f921"
            ]
           ],
           "sequentialminus": [
            [
             0,
             "#0d0887"
            ],
            [
             0.1111111111111111,
             "#46039f"
            ],
            [
             0.2222222222222222,
             "#7201a8"
            ],
            [
             0.3333333333333333,
             "#9c179e"
            ],
            [
             0.4444444444444444,
             "#bd3786"
            ],
            [
             0.5555555555555556,
             "#d8576b"
            ],
            [
             0.6666666666666666,
             "#ed7953"
            ],
            [
             0.7777777777777778,
             "#fb9f3a"
            ],
            [
             0.8888888888888888,
             "#fdca26"
            ],
            [
             1,
             "#f0f921"
            ]
           ]
          },
          "colorway": [
           "#636efa",
           "#EF553B",
           "#00cc96",
           "#ab63fa",
           "#FFA15A",
           "#19d3f3",
           "#FF6692",
           "#B6E880",
           "#FF97FF",
           "#FECB52"
          ],
          "font": {
           "color": "#2a3f5f"
          },
          "geo": {
           "bgcolor": "white",
           "lakecolor": "white",
           "landcolor": "#E5ECF6",
           "showlakes": true,
           "showland": true,
           "subunitcolor": "white"
          },
          "hoverlabel": {
           "align": "left"
          },
          "hovermode": "closest",
          "mapbox": {
           "style": "light"
          },
          "paper_bgcolor": "white",
          "plot_bgcolor": "#E5ECF6",
          "polar": {
           "angularaxis": {
            "gridcolor": "white",
            "linecolor": "white",
            "ticks": ""
           },
           "bgcolor": "#E5ECF6",
           "radialaxis": {
            "gridcolor": "white",
            "linecolor": "white",
            "ticks": ""
           }
          },
          "scene": {
           "xaxis": {
            "backgroundcolor": "#E5ECF6",
            "gridcolor": "white",
            "gridwidth": 2,
            "linecolor": "white",
            "showbackground": true,
            "ticks": "",
            "zerolinecolor": "white"
           },
           "yaxis": {
            "backgroundcolor": "#E5ECF6",
            "gridcolor": "white",
            "gridwidth": 2,
            "linecolor": "white",
            "showbackground": true,
            "ticks": "",
            "zerolinecolor": "white"
           },
           "zaxis": {
            "backgroundcolor": "#E5ECF6",
            "gridcolor": "white",
            "gridwidth": 2,
            "linecolor": "white",
            "showbackground": true,
            "ticks": "",
            "zerolinecolor": "white"
           }
          },
          "shapedefaults": {
           "line": {
            "color": "#2a3f5f"
           }
          },
          "ternary": {
           "aaxis": {
            "gridcolor": "white",
            "linecolor": "white",
            "ticks": ""
           },
           "baxis": {
            "gridcolor": "white",
            "linecolor": "white",
            "ticks": ""
           },
           "bgcolor": "#E5ECF6",
           "caxis": {
            "gridcolor": "white",
            "linecolor": "white",
            "ticks": ""
           }
          },
          "title": {
           "x": 0.05
          },
          "xaxis": {
           "automargin": true,
           "gridcolor": "white",
           "linecolor": "white",
           "ticks": "",
           "title": {
            "standoff": 15
           },
           "zerolinecolor": "white",
           "zerolinewidth": 2
          },
          "yaxis": {
           "automargin": true,
           "gridcolor": "white",
           "linecolor": "white",
           "ticks": "",
           "title": {
            "standoff": 15
           },
           "zerolinecolor": "white",
           "zerolinewidth": 2
          }
         }
        },
        "title": {
         "text": "GEOGRAPHICAL DISTRIBUTION OF AVERAGE MOVIE GROSS REVENUE (EUROPE)"
        }
       }
      },
      "text/html": [
       "<div>                            <div id=\"d4f1d883-a7a3-4a6b-8a42-970ec0514ef5\" class=\"plotly-graph-div\" style=\"height:525px; width:100%;\"></div>            <script type=\"text/javascript\">                require([\"plotly\"], function(Plotly) {                    window.PLOTLYENV=window.PLOTLYENV || {};                                    if (document.getElementById(\"d4f1d883-a7a3-4a6b-8a42-970ec0514ef5\")) {                    Plotly.newPlot(                        \"d4f1d883-a7a3-4a6b-8a42-970ec0514ef5\",                        [{\"coloraxis\":\"coloraxis\",\"geo\":\"geo\",\"hovertemplate\":\"Area=%{location}\\u003cbr\\u003emean_numeric=%{z}\\u003cextra\\u003e\\u003c\\u002fextra\\u003e\",\"locationmode\":\"country names\",\"locations\":[\"Austria\",\"Bahrain\",\"Belgium\",\"Bulgaria\",\"Croatia\",\"Cyprus\",\"Czech Republic\",\"Denmark\",\"Egypt\",\"Estonia\",\"Finland\",\"France\",\"Germany\",\"Greece\",\"Hungary\",\"Iceland\",\"Israel\",\"Italy\",\"Jordan\",\"Kuwait\",\"Latvia\",\"Lebanon\",\"Lithuania\",\"Netherlands\",\"Norway\",\"Oman\",\"Poland\",\"Portugal\",\"Qatar\",\"Romania\",\"Serbia and Montenegro\",\"Slovakia\",\"Slovenia\",\"South Africa\",\"Spain\",\"Sweden\",\"Switzerland\",\"T\\u00fcrkiye\",\"Ukraine\",\"United Arab Emirates\",\"United Kingdom\"],\"name\":\"\",\"z\":[4575470.0,106048.0,6430234.0,599830.0,711626.0,29957.0,2412210.0,5198657.0,168454.0,183454.0,3315422.0,36576286.0,34241525.0,1612745.0,1931317.0,406744.0,617522.0,23107293.0,76998.0,427631.0,72973.0,85910.0,503902.0,13316856.0,4631604.0,63048.0,6613466.0,3551735.0,134647.0,1605497.0,327282.0,1021454.0,385506.0,2537489.0,24171812.0,7399975.0,5569708.0,2507791.0,3108890.0,5750983.0,65246235.0],\"type\":\"choropleth\"}],                        {\"template\":{\"data\":{\"histogram2dcontour\":[{\"type\":\"histogram2dcontour\",\"colorbar\":{\"outlinewidth\":0,\"ticks\":\"\"},\"colorscale\":[[0.0,\"#0d0887\"],[0.1111111111111111,\"#46039f\"],[0.2222222222222222,\"#7201a8\"],[0.3333333333333333,\"#9c179e\"],[0.4444444444444444,\"#bd3786\"],[0.5555555555555556,\"#d8576b\"],[0.6666666666666666,\"#ed7953\"],[0.7777777777777778,\"#fb9f3a\"],[0.8888888888888888,\"#fdca26\"],[1.0,\"#f0f921\"]]}],\"choropleth\":[{\"type\":\"choropleth\",\"colorbar\":{\"outlinewidth\":0,\"ticks\":\"\"}}],\"histogram2d\":[{\"type\":\"histogram2d\",\"colorbar\":{\"outlinewidth\":0,\"ticks\":\"\"},\"colorscale\":[[0.0,\"#0d0887\"],[0.1111111111111111,\"#46039f\"],[0.2222222222222222,\"#7201a8\"],[0.3333333333333333,\"#9c179e\"],[0.4444444444444444,\"#bd3786\"],[0.5555555555555556,\"#d8576b\"],[0.6666666666666666,\"#ed7953\"],[0.7777777777777778,\"#fb9f3a\"],[0.8888888888888888,\"#fdca26\"],[1.0,\"#f0f921\"]]}],\"heatmap\":[{\"type\":\"heatmap\",\"colorbar\":{\"outlinewidth\":0,\"ticks\":\"\"},\"colorscale\":[[0.0,\"#0d0887\"],[0.1111111111111111,\"#46039f\"],[0.2222222222222222,\"#7201a8\"],[0.3333333333333333,\"#9c179e\"],[0.4444444444444444,\"#bd3786\"],[0.5555555555555556,\"#d8576b\"],[0.6666666666666666,\"#ed7953\"],[0.7777777777777778,\"#fb9f3a\"],[0.8888888888888888,\"#fdca26\"],[1.0,\"#f0f921\"]]}],\"heatmapgl\":[{\"type\":\"heatmapgl\",\"colorbar\":{\"outlinewidth\":0,\"ticks\":\"\"},\"colorscale\":[[0.0,\"#0d0887\"],[0.1111111111111111,\"#46039f\"],[0.2222222222222222,\"#7201a8\"],[0.3333333333333333,\"#9c179e\"],[0.4444444444444444,\"#bd3786\"],[0.5555555555555556,\"#d8576b\"],[0.6666666666666666,\"#ed7953\"],[0.7777777777777778,\"#fb9f3a\"],[0.8888888888888888,\"#fdca26\"],[1.0,\"#f0f921\"]]}],\"contourcarpet\":[{\"type\":\"contourcarpet\",\"colorbar\":{\"outlinewidth\":0,\"ticks\":\"\"}}],\"contour\":[{\"type\":\"contour\",\"colorbar\":{\"outlinewidth\":0,\"ticks\":\"\"},\"colorscale\":[[0.0,\"#0d0887\"],[0.1111111111111111,\"#46039f\"],[0.2222222222222222,\"#7201a8\"],[0.3333333333333333,\"#9c179e\"],[0.4444444444444444,\"#bd3786\"],[0.5555555555555556,\"#d8576b\"],[0.6666666666666666,\"#ed7953\"],[0.7777777777777778,\"#fb9f3a\"],[0.8888888888888888,\"#fdca26\"],[1.0,\"#f0f921\"]]}],\"surface\":[{\"type\":\"surface\",\"colorbar\":{\"outlinewidth\":0,\"ticks\":\"\"},\"colorscale\":[[0.0,\"#0d0887\"],[0.1111111111111111,\"#46039f\"],[0.2222222222222222,\"#7201a8\"],[0.3333333333333333,\"#9c179e\"],[0.4444444444444444,\"#bd3786\"],[0.5555555555555556,\"#d8576b\"],[0.6666666666666666,\"#ed7953\"],[0.7777777777777778,\"#fb9f3a\"],[0.8888888888888888,\"#fdca26\"],[1.0,\"#f0f921\"]]}],\"mesh3d\":[{\"type\":\"mesh3d\",\"colorbar\":{\"outlinewidth\":0,\"ticks\":\"\"}}],\"scatter\":[{\"fillpattern\":{\"fillmode\":\"overlay\",\"size\":10,\"solidity\":0.2},\"type\":\"scatter\"}],\"parcoords\":[{\"type\":\"parcoords\",\"line\":{\"colorbar\":{\"outlinewidth\":0,\"ticks\":\"\"}}}],\"scatterpolargl\":[{\"type\":\"scatterpolargl\",\"marker\":{\"colorbar\":{\"outlinewidth\":0,\"ticks\":\"\"}}}],\"bar\":[{\"error_x\":{\"color\":\"#2a3f5f\"},\"error_y\":{\"color\":\"#2a3f5f\"},\"marker\":{\"line\":{\"color\":\"#E5ECF6\",\"width\":0.5},\"pattern\":{\"fillmode\":\"overlay\",\"size\":10,\"solidity\":0.2}},\"type\":\"bar\"}],\"scattergeo\":[{\"type\":\"scattergeo\",\"marker\":{\"colorbar\":{\"outlinewidth\":0,\"ticks\":\"\"}}}],\"scatterpolar\":[{\"type\":\"scatterpolar\",\"marker\":{\"colorbar\":{\"outlinewidth\":0,\"ticks\":\"\"}}}],\"histogram\":[{\"marker\":{\"pattern\":{\"fillmode\":\"overlay\",\"size\":10,\"solidity\":0.2}},\"type\":\"histogram\"}],\"scattergl\":[{\"type\":\"scattergl\",\"marker\":{\"colorbar\":{\"outlinewidth\":0,\"ticks\":\"\"}}}],\"scatter3d\":[{\"type\":\"scatter3d\",\"line\":{\"colorbar\":{\"outlinewidth\":0,\"ticks\":\"\"}},\"marker\":{\"colorbar\":{\"outlinewidth\":0,\"ticks\":\"\"}}}],\"scattermapbox\":[{\"type\":\"scattermapbox\",\"marker\":{\"colorbar\":{\"outlinewidth\":0,\"ticks\":\"\"}}}],\"scatterternary\":[{\"type\":\"scatterternary\",\"marker\":{\"colorbar\":{\"outlinewidth\":0,\"ticks\":\"\"}}}],\"scattercarpet\":[{\"type\":\"scattercarpet\",\"marker\":{\"colorbar\":{\"outlinewidth\":0,\"ticks\":\"\"}}}],\"carpet\":[{\"aaxis\":{\"endlinecolor\":\"#2a3f5f\",\"gridcolor\":\"white\",\"linecolor\":\"white\",\"minorgridcolor\":\"white\",\"startlinecolor\":\"#2a3f5f\"},\"baxis\":{\"endlinecolor\":\"#2a3f5f\",\"gridcolor\":\"white\",\"linecolor\":\"white\",\"minorgridcolor\":\"white\",\"startlinecolor\":\"#2a3f5f\"},\"type\":\"carpet\"}],\"table\":[{\"cells\":{\"fill\":{\"color\":\"#EBF0F8\"},\"line\":{\"color\":\"white\"}},\"header\":{\"fill\":{\"color\":\"#C8D4E3\"},\"line\":{\"color\":\"white\"}},\"type\":\"table\"}],\"barpolar\":[{\"marker\":{\"line\":{\"color\":\"#E5ECF6\",\"width\":0.5},\"pattern\":{\"fillmode\":\"overlay\",\"size\":10,\"solidity\":0.2}},\"type\":\"barpolar\"}],\"pie\":[{\"automargin\":true,\"type\":\"pie\"}]},\"layout\":{\"autotypenumbers\":\"strict\",\"colorway\":[\"#636efa\",\"#EF553B\",\"#00cc96\",\"#ab63fa\",\"#FFA15A\",\"#19d3f3\",\"#FF6692\",\"#B6E880\",\"#FF97FF\",\"#FECB52\"],\"font\":{\"color\":\"#2a3f5f\"},\"hovermode\":\"closest\",\"hoverlabel\":{\"align\":\"left\"},\"paper_bgcolor\":\"white\",\"plot_bgcolor\":\"#E5ECF6\",\"polar\":{\"bgcolor\":\"#E5ECF6\",\"angularaxis\":{\"gridcolor\":\"white\",\"linecolor\":\"white\",\"ticks\":\"\"},\"radialaxis\":{\"gridcolor\":\"white\",\"linecolor\":\"white\",\"ticks\":\"\"}},\"ternary\":{\"bgcolor\":\"#E5ECF6\",\"aaxis\":{\"gridcolor\":\"white\",\"linecolor\":\"white\",\"ticks\":\"\"},\"baxis\":{\"gridcolor\":\"white\",\"linecolor\":\"white\",\"ticks\":\"\"},\"caxis\":{\"gridcolor\":\"white\",\"linecolor\":\"white\",\"ticks\":\"\"}},\"coloraxis\":{\"colorbar\":{\"outlinewidth\":0,\"ticks\":\"\"}},\"colorscale\":{\"sequential\":[[0.0,\"#0d0887\"],[0.1111111111111111,\"#46039f\"],[0.2222222222222222,\"#7201a8\"],[0.3333333333333333,\"#9c179e\"],[0.4444444444444444,\"#bd3786\"],[0.5555555555555556,\"#d8576b\"],[0.6666666666666666,\"#ed7953\"],[0.7777777777777778,\"#fb9f3a\"],[0.8888888888888888,\"#fdca26\"],[1.0,\"#f0f921\"]],\"sequentialminus\":[[0.0,\"#0d0887\"],[0.1111111111111111,\"#46039f\"],[0.2222222222222222,\"#7201a8\"],[0.3333333333333333,\"#9c179e\"],[0.4444444444444444,\"#bd3786\"],[0.5555555555555556,\"#d8576b\"],[0.6666666666666666,\"#ed7953\"],[0.7777777777777778,\"#fb9f3a\"],[0.8888888888888888,\"#fdca26\"],[1.0,\"#f0f921\"]],\"diverging\":[[0,\"#8e0152\"],[0.1,\"#c51b7d\"],[0.2,\"#de77ae\"],[0.3,\"#f1b6da\"],[0.4,\"#fde0ef\"],[0.5,\"#f7f7f7\"],[0.6,\"#e6f5d0\"],[0.7,\"#b8e186\"],[0.8,\"#7fbc41\"],[0.9,\"#4d9221\"],[1,\"#276419\"]]},\"xaxis\":{\"gridcolor\":\"white\",\"linecolor\":\"white\",\"ticks\":\"\",\"title\":{\"standoff\":15},\"zerolinecolor\":\"white\",\"automargin\":true,\"zerolinewidth\":2},\"yaxis\":{\"gridcolor\":\"white\",\"linecolor\":\"white\",\"ticks\":\"\",\"title\":{\"standoff\":15},\"zerolinecolor\":\"white\",\"automargin\":true,\"zerolinewidth\":2},\"scene\":{\"xaxis\":{\"backgroundcolor\":\"#E5ECF6\",\"gridcolor\":\"white\",\"linecolor\":\"white\",\"showbackground\":true,\"ticks\":\"\",\"zerolinecolor\":\"white\",\"gridwidth\":2},\"yaxis\":{\"backgroundcolor\":\"#E5ECF6\",\"gridcolor\":\"white\",\"linecolor\":\"white\",\"showbackground\":true,\"ticks\":\"\",\"zerolinecolor\":\"white\",\"gridwidth\":2},\"zaxis\":{\"backgroundcolor\":\"#E5ECF6\",\"gridcolor\":\"white\",\"linecolor\":\"white\",\"showbackground\":true,\"ticks\":\"\",\"zerolinecolor\":\"white\",\"gridwidth\":2}},\"shapedefaults\":{\"line\":{\"color\":\"#2a3f5f\"}},\"annotationdefaults\":{\"arrowcolor\":\"#2a3f5f\",\"arrowhead\":0,\"arrowwidth\":1},\"geo\":{\"bgcolor\":\"white\",\"landcolor\":\"#E5ECF6\",\"subunitcolor\":\"white\",\"showland\":true,\"showlakes\":true,\"lakecolor\":\"white\"},\"title\":{\"x\":0.05},\"mapbox\":{\"style\":\"light\"}}},\"geo\":{\"domain\":{\"x\":[0.0,1.0],\"y\":[0.0,1.0]},\"center\":{},\"scope\":\"europe\"},\"coloraxis\":{\"colorbar\":{\"title\":{\"text\":\"mean_numeric\"}},\"colorscale\":[[0.0,\"rgb(247,251,255)\"],[0.125,\"rgb(222,235,247)\"],[0.25,\"rgb(198,219,239)\"],[0.375,\"rgb(158,202,225)\"],[0.5,\"rgb(107,174,214)\"],[0.625,\"rgb(66,146,198)\"],[0.75,\"rgb(33,113,181)\"],[0.875,\"rgb(8,81,156)\"],[1.0,\"rgb(8,48,107)\"]]},\"legend\":{\"tracegroupgap\":0},\"title\":{\"text\":\"GEOGRAPHICAL DISTRIBUTION OF AVERAGE MOVIE GROSS REVENUE (EUROPE)\"}},                        {\"responsive\": true}                    ).then(function(){\n",
       "                            \n",
       "var gd = document.getElementById('d4f1d883-a7a3-4a6b-8a42-970ec0514ef5');\n",
       "var x = new MutationObserver(function (mutations, observer) {{\n",
       "        var display = window.getComputedStyle(gd).display;\n",
       "        if (!display || display === 'none') {{\n",
       "            console.log([gd, 'removed!']);\n",
       "            Plotly.purge(gd);\n",
       "            observer.disconnect();\n",
       "        }}\n",
       "}});\n",
       "\n",
       "// Listen for the removal of the full notebook cells\n",
       "var notebookContainer = gd.closest('#notebook-container');\n",
       "if (notebookContainer) {{\n",
       "    x.observe(notebookContainer, {childList: true});\n",
       "}}\n",
       "\n",
       "// Listen for the clearing of the current output cell\n",
       "var outputEl = gd.closest('.output');\n",
       "if (outputEl) {{\n",
       "    x.observe(outputEl, {childList: true});\n",
       "}}\n",
       "\n",
       "                        })                };                });            </script>        </div>"
      ]
     },
     "metadata": {},
     "output_type": "display_data"
    }
   ],
   "source": [
    "\n",
    "# MOVIES\n",
    "csv_datas = [\"movie1 (Avengers).csv\", \"movie2 (LionKing).csv\", \"movie3 (Joker).csv\",\n",
    "             \"movie4 (Aladdin).csv\", \"movie5 (DowntonAbbey).csv\", \"movie6 (KnivesOut).csv\"]\n",
    "df_list = []\n",
    "\n",
    "# LOAD DATA\n",
    "for data in csv_datas:\n",
    "    df_temp = pd.read_csv(data, sep=';')\n",
    "    df_temp['Gross'] = df_temp['Gross'].str.replace(\n",
    "        '$', '', regex=False).astype(float)\n",
    "    df_list.append(df_temp)\n",
    "\n",
    "# CONCAT DATA\n",
    "df = pd.concat(df_list, ignore_index=True)\n",
    "\n",
    "# GROUP DATA\n",
    "df_grouped = df.groupby('Area')['Gross'].agg(['mean']).reset_index()\n",
    "df_grouped['mean_numeric'] = df_grouped['mean'].round()\n",
    "df_grouped['mean'] = df_grouped['mean_numeric'].apply(\n",
    "    lambda x: f\"{x:,.0f}\".replace(\",\", \"'\"))\n",
    "\n",
    "# PRINT DATA: ALL COUNTRIES\n",
    "print(\"AGGREGATED MOVIE DATA BY COUNTRY:\")\n",
    "print(df_grouped[['Area', 'mean']])\n",
    "\n",
    "# PRINT DATA: TOP 5 COUNTRIES (SORTED BY NUMERIC VALUE)\n",
    "print(\"\\n\\nTOP 5 COUNTRIES BY AVERAGE GROSS REVENUE:\")\n",
    "df_sorted = df_grouped.sort_values(by='mean_numeric', ascending=False)\n",
    "top_5_countries = df_sorted.head(5)\n",
    "print(top_5_countries[['Area', 'mean']])\n",
    "\n",
    "# GEOGRAPHICAL DATA\n",
    "fig = px.choropleth(\n",
    "    df_grouped,\n",
    "    locations=\"Area\",\n",
    "    locationmode=\"country names\",\n",
    "    color=\"mean_numeric\",\n",
    "    title=\"GEOGRAPHICAL DISTRIBUTION OF AVERAGE MOVIE GROSS REVENUE (EUROPE)\",\n",
    "    color_continuous_scale=\"Blues\",\n",
    "    scope='europe'\n",
    ")\n",
    "fig.show()"
   ]
  },
  {
   "cell_type": "markdown",
   "metadata": {},
   "source": [
    "---\n",
    "---"
   ]
  },
  {
   "cell_type": "markdown",
   "metadata": {},
   "source": [
    "### Jupyter notebook --footer info--"
   ]
  },
  {
   "cell_type": "code",
   "execution_count": 139,
   "metadata": {},
   "outputs": [
    {
     "name": "stdout",
     "output_type": "stream",
     "text": [
      "-----------------------------------\n",
      "POSIX\n",
      "Linux | 6.5.0-1025-azure\n",
      "Datetime: 2025-01-09 08:57:04\n",
      "Python Version: 3.11.10\n",
      "-----------------------------------\n"
     ]
    }
   ],
   "source": [
    "import os\n",
    "import platform\n",
    "import socket\n",
    "from platform import python_version\n",
    "from datetime import datetime\n",
    "\n",
    "print('-----------------------------------')\n",
    "print(os.name.upper())\n",
    "print(platform.system(), '|', platform.release())\n",
    "print('Datetime:', datetime.now().strftime(\"%Y-%m-%d %H:%M:%S\"))\n",
    "print('Python Version:', python_version())\n",
    "print('-----------------------------------')"
   ]
  },
  {
   "cell_type": "markdown",
   "metadata": {},
   "source": [
    "###"
   ]
  }
 ],
 "metadata": {
  "kernelspec": {
   "display_name": "Python 3",
   "language": "python",
   "name": "python3"
  },
  "language_info": {
   "codemirror_mode": {
    "name": "ipython",
    "version": 3
   },
   "file_extension": ".py",
   "mimetype": "text/x-python",
   "name": "python",
   "nbconvert_exporter": "python",
   "pygments_lexer": "ipython3",
   "version": "3.11.10"
  }
 },
 "nbformat": 4,
 "nbformat_minor": 2
}
